{
 "cells": [
  {
   "cell_type": "code",
   "execution_count": 18,
   "id": "a8cc0bb3-32f3-4b89-b6f3-70415f1831d1",
   "metadata": {},
   "outputs": [],
   "source": [
    "import json\n",
    "\n",
    "class json_save_n_load:\n",
    "\n",
    "    def __init__(self,game_file):\n",
    "        self.game_file = game_file\n",
    "        \n",
    "\n",
    "    def SaveGame(self,gamedata):\n",
    "        with open(self.game_file,'w') as f:\n",
    "            json.dump(gamedata,f)\n",
    "            print (f\"saved to {self.game_file}. Thanks for Playing!!\")\n",
    "    def LoadGame(self):\n",
    "        try:\n",
    "            with open(self.game_file,'r') as f:\n",
    "                persistence = json.load(f)\n",
    "            print (f\"loading {self.game_file}...\")\n",
    "            return persistence\n",
    "        except FileNotFoundError:\n",
    "            print (\"No File Found :(\")\n",
    "            return None"
   ]
  },
  {
   "cell_type": "code",
   "execution_count": 20,
   "id": "b60b3606",
   "metadata": {},
   "outputs": [
    {
     "name": "stdout",
     "output_type": "stream",
     "text": [
      "saved to json_tst.json. Thanks for Playing!!\n",
      "loading json_tst.json...\n"
     ]
    },
    {
     "data": {
      "text/plain": [
       "'save pls'"
      ]
     },
     "execution_count": 20,
     "metadata": {},
     "output_type": "execute_result"
    }
   ],
   "source": [
    "data = \"save pls\"\n",
    "\n",
    "file_test = json_save_n_load(\"json_tst.json\")\n",
    "\n",
    "file_test.SaveGame(data)\n",
    "\n",
    "file_test.LoadGame()\n"
   ]
  },
  {
   "cell_type": "code",
   "execution_count": null,
   "id": "a79833f7",
   "metadata": {},
   "outputs": [],
   "source": []
  }
 ],
 "metadata": {
  "kernelspec": {
   "display_name": "base",
   "language": "python",
   "name": "python3"
  },
  "language_info": {
   "codemirror_mode": {
    "name": "ipython",
    "version": 3
   },
   "file_extension": ".py",
   "mimetype": "text/x-python",
   "name": "python",
   "nbconvert_exporter": "python",
   "pygments_lexer": "ipython3",
   "version": "3.12.7"
  }
 },
 "nbformat": 4,
 "nbformat_minor": 5
}
