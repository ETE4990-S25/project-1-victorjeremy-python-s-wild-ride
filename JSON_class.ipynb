{
 "cells": [
  {
   "cell_type": "code",
   "execution_count": null,
   "id": "a8cc0bb3-32f3-4b89-b6f3-70415f1831d1",
   "metadata": {},
   "outputs": [],
   "source": [
    "import json\n",
    "\n",
    "class json_save_n_load:\n",
    "\n",
    "    def __init__(self,game_file):\n",
    "        self.game_file = game_file\n",
    "\n",
    "    def SaveGame(self,gamedata):\n",
    "        with open(game_file,'w') as f:\n",
    "            json.dump(gamedata,f)\n",
    "            print (f\"saved to {game_file}. Thanks for Playing!!\")\n",
    "    def LoadGame(self):\n",
    "        try:\n",
    "            with open(game_file,'r') as f:\n",
    "                persistence = json.load(f)\n",
    "            print (f\"loading {game_file}...\")\n",
    "            return persistence\n",
    "        except FileNotFoundError:\n",
    "            print (\"No File Found :(\")\n",
    "            return None"
   ]
  }
 ],
 "metadata": {
  "kernelspec": {
   "display_name": "Python [conda env:base] *",
   "language": "python",
   "name": "conda-base-py"
  },
  "language_info": {
   "codemirror_mode": {
    "name": "ipython",
    "version": 3
   },
   "file_extension": ".py",
   "mimetype": "text/x-python",
   "name": "python",
   "nbconvert_exporter": "python",
   "pygments_lexer": "ipython3",
   "version": "3.12.7"
  }
 },
 "nbformat": 4,
 "nbformat_minor": 5
}
