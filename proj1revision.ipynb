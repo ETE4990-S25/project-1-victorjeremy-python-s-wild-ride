{
 "cells": [
  {
   "cell_type": "code",
   "execution_count": 6,
   "id": "7df2b83f-e634-4891-a115-06a030f24376",
   "metadata": {},
   "outputs": [],
   "source": [
    "class gamestates:\n",
    "    #gamestates include combat, noncombat\n",
    "    def gamecycle(gamestate):\n",
    "        state = gamestate\n",
    "        if state == 0: #menu\n",
    "            try:\n",
    "                print(\"m\")\n",
    "            except:\n",
    "                print(\"problem with menu\")\n",
    "        if state == 1: #noncombat phase\n",
    "            try:\n",
    "                print(\"nc\")\n",
    "            except:\n",
    "                print(\"problem with noncombat phase\")\n",
    "        if state == 2: #combat phase\n",
    "            try:\n",
    "                print(\"c\")\n",
    "            except:\n",
    "                print(\"problem with combat phase\")\n",
    "            \n",
    "            "
   ]
  },
  {
   "cell_type": "code",
   "execution_count": 7,
   "id": "219f5a49-62a2-43e9-8065-3ec65b1921ed",
   "metadata": {},
   "outputs": [
    {
     "name": "stdout",
     "output_type": "stream",
     "text": [
      "nc\n",
      "m\n",
      "c\n"
     ]
    }
   ],
   "source": [
    "gamestates.gamecycle(1)\n",
    "gamestates.gamecycle(0)\n",
    "gamestates.gamecycle(2)"
   ]
  },
  {
   "cell_type": "code",
   "execution_count": 30,
   "id": "f73d02a2-313b-43ff-93ec-cfaa43c0ff15",
   "metadata": {},
   "outputs": [],
   "source": [
    "class combat:\n",
    "    def initialize():\n",
    "        global playerteam\n",
    "        playerteam = []\n",
    "        global enemyteam\n",
    "        enemyteam = []\n",
    "        print(\"1a\")\n",
    "\n",
    "    def combatcycle(combatstate):\n",
    "        state = combatstate\n",
    "        if state == 0: #combat start\n",
    "            print(\"a\") #indicate that combat has started\n",
    "            combat.initialize()\n",
    "            #teams should be initialized\n",
    "            \n",
    "        if state == 1: #player turn\n",
    "            print(\"b\") #player can take action\n",
    "            \n",
    "            \n",
    "        if state == 2: #enemy turn\n",
    "            print(\"c\") #enemy chooses the last item in the playerteam to attack\n",
    "            try:\n",
    "                if len(playerteam) == 0:\n",
    "                    print(\"no more players\")\n",
    "                elif playerteam[-1].hitpoints > 0:\n",
    "                    print(\"ec\")\n",
    "                \n",
    "            except:\n",
    "                print(\"problem during enemy turn\")\n",
    "                    \n",
    "            \n",
    "        if state == 3: #intermission\n",
    "            print(\"d\") #displays health of every entity that remains\n",
    "            "
   ]
  },
  {
   "cell_type": "code",
   "execution_count": 31,
   "id": "33d9acf9-0aad-4f1b-b0c9-8daad8ac6c7f",
   "metadata": {},
   "outputs": [
    {
     "name": "stdout",
     "output_type": "stream",
     "text": [
      "a\n",
      "1a\n",
      "b\n",
      "c\n",
      "no more players\n",
      "d\n"
     ]
    }
   ],
   "source": [
    "for i in range(4):\n",
    "    combat.combatcycle(i)"
   ]
  },
  {
   "cell_type": "code",
   "execution_count": 24,
   "id": "4ffa8a49-8f51-4ee2-947e-2b6c54f972f9",
   "metadata": {},
   "outputs": [
    {
     "data": {
      "text/plain": [
       "0"
      ]
     },
     "execution_count": 24,
     "metadata": {},
     "output_type": "execute_result"
    }
   ],
   "source": [
    "lst = []\n",
    "len(lst)"
   ]
  },
  {
   "cell_type": "code",
   "execution_count": 5,
   "id": "789314ed-079e-406d-8e71-16cf5c88c2e0",
   "metadata": {},
   "outputs": [
    {
     "ename": "SyntaxError",
     "evalue": "invalid syntax (4192524974.py, line 2)",
     "output_type": "error",
     "traceback": [
      "\u001b[1;36m  Cell \u001b[1;32mIn[5], line 2\u001b[1;36m\u001b[0m\n\u001b[1;33m    def\u001b[0m\n\u001b[1;37m       ^\u001b[0m\n\u001b[1;31mSyntaxError\u001b[0m\u001b[1;31m:\u001b[0m invalid syntax\n"
     ]
    }
   ],
   "source": [
    "class inventory:\n",
    "    def"
   ]
  },
  {
   "cell_type": "code",
   "execution_count": 9,
   "id": "b3cfe637-3614-4e92-8b4c-42c3ecb20d8e",
   "metadata": {},
   "outputs": [],
   "source": [
    "class entity:\n",
    "    def __init__(self, name, hitpoints):\n",
    "        self.name = name\n",
    "        self.hitpoints = hitpoints\n",
    "        self.modifiers = []\n",
    "\n",
    "    def hurt(self,source):\n",
    "        self.hitpoints -= source\n",
    "\n",
    "        if self.hitpoints <= 0:\n",
    "            print(\"dead\")\n",
    "            "
   ]
  },
  {
   "cell_type": "code",
   "execution_count": 8,
   "id": "a84a1796-7059-4c0d-b863-16e23b43c522",
   "metadata": {},
   "outputs": [],
   "source": [
    "class modifiers:\n",
    "    def dmg_resist(value):\n",
    "        return 1"
   ]
  },
  {
   "cell_type": "code",
   "execution_count": 2,
   "id": "daa4bba8-564d-4b0a-9e59-c041765531a7",
   "metadata": {},
   "outputs": [],
   "source": [
    "a = entity(\"a\",15)"
   ]
  },
  {
   "cell_type": "code",
   "execution_count": 3,
   "id": "c03be7a6-4e5c-4032-a57c-ab5b2defbccc",
   "metadata": {},
   "outputs": [],
   "source": [
    "a.hurt(14)"
   ]
  },
  {
   "cell_type": "code",
   "execution_count": 4,
   "id": "9d50b292-a092-4edd-b7ea-992c7b0816ec",
   "metadata": {},
   "outputs": [
    {
     "data": {
      "text/plain": [
       "1"
      ]
     },
     "execution_count": 4,
     "metadata": {},
     "output_type": "execute_result"
    }
   ],
   "source": [
    "a.hitpoints"
   ]
  },
  {
   "cell_type": "code",
   "execution_count": 5,
   "id": "e6743ee7-b8a1-4df4-bbf6-79480a06329a",
   "metadata": {},
   "outputs": [
    {
     "name": "stdout",
     "output_type": "stream",
     "text": [
      "dead\n"
     ]
    }
   ],
   "source": [
    "a.hurt(1)"
   ]
  },
  {
   "cell_type": "code",
   "execution_count": 6,
   "id": "3531a4e1-9c7f-4b12-9317-2edef317ac0e",
   "metadata": {},
   "outputs": [
    {
     "data": {
      "text/plain": [
       "0"
      ]
     },
     "execution_count": 6,
     "metadata": {},
     "output_type": "execute_result"
    }
   ],
   "source": [
    "a.hitpoints"
   ]
  },
  {
   "cell_type": "code",
   "execution_count": 10,
   "id": "508845fa-47e5-4eaa-88a3-4fd0cbe32532",
   "metadata": {},
   "outputs": [
    {
     "name": "stdout",
     "output_type": "stream",
     "text": [
      "dead\n"
     ]
    }
   ],
   "source": [
    "a.hurt(5)"
   ]
  },
  {
   "cell_type": "code",
   "execution_count": 11,
   "id": "34d207e7-51e8-477a-a608-36fdd53b8013",
   "metadata": {},
   "outputs": [
    {
     "data": {
      "text/plain": [
       "-10"
      ]
     },
     "execution_count": 11,
     "metadata": {},
     "output_type": "execute_result"
    }
   ],
   "source": [
    "a.hitpoints"
   ]
  },
  {
   "cell_type": "code",
   "execution_count": null,
   "id": "b106e592-868b-49d3-bf4b-fc3373d5cdd0",
   "metadata": {},
   "outputs": [],
   "source": []
  }
 ],
 "metadata": {
  "kernelspec": {
   "display_name": "Python 3 (ipykernel)",
   "language": "python",
   "name": "python3"
  },
  "language_info": {
   "codemirror_mode": {
    "name": "ipython",
    "version": 3
   },
   "file_extension": ".py",
   "mimetype": "text/x-python",
   "name": "python",
   "nbconvert_exporter": "python",
   "pygments_lexer": "ipython3",
   "version": "3.13.1"
  }
 },
 "nbformat": 4,
 "nbformat_minor": 5
}
