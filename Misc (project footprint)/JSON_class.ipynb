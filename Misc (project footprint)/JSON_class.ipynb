{
 "cells": [
  {
   "cell_type": "code",
   "execution_count": null,
   "id": "04a0df4a",
   "metadata": {},
   "outputs": [],
   "source": [
    "class gamestates:\n",
    "    \"\"\"these are the stages of games user can be\"\"\"\n",
    "\n",
    "    def __init__(self,state):\n",
    "        self.state = state\n",
    "    \n",
    "    def gamecycle(self,game_state):\n",
    "        game_state = self.state\n",
    "\n",
    "        if game_state == 0:\n",
    "            \n",
    "\n",
    "\n"
   ]
  },
  {
   "cell_type": "code",
   "execution_count": null,
   "id": "a8cc0bb3-32f3-4b89-b6f3-70415f1831d1",
   "metadata": {},
   "outputs": [],
   "source": [
    "import json\n",
    "\n",
    "class json_save_n_load:\n",
    "\n",
    "    def __init__(self,game_file):\n",
    "        self.game_file = game_file\n",
    "        \n",
    "\n",
    "    def SaveGame(self,gamedata):\n",
    "        with open(self.game_file,'w') as f:\n",
    "            json.dump(gamedata,f)\n",
    "            print (f\"saved to {self.game_file}. Thanks for Playing!!\")\n",
    "    \n",
    "    def LoadGame(self):\n",
    "        try:\n",
    "            with open(self.game_file,'r') as f:\n",
    "                persistence = json.load(f)\n",
    "            print (f\"loading {self.game_file}...\")\n",
    "            return persistence\n",
    "        except FileNotFoundError:\n",
    "            print (\"No File Found :(\")\n",
    "            return None\n",
    "    \n",
    "    def Add_to_save(self,gamedata):\n",
    "        with open(self.game_file,'a') as f:\n",
    "            json.dumps(gamedata,f)\n",
    "            print(f\"saved to {self.game_file}. Thanks for playing!!\")\n",
    "    \n"
   ]
  },
  {
   "cell_type": "code",
   "execution_count": null,
   "id": "360c694b",
   "metadata": {},
   "outputs": [],
   "source": [
    "class gamestates(json_save_n_load):\n",
    "    #gamestates include combat, noncombat\n",
    "\n",
    "    def gamecycle(gamestate):\n",
    "        state = gamestate\n",
    "        if state == 0: #menu\n",
    "            try:\n",
    "                print(\"=== Start Menu ===\")\n",
    "                try:\n",
    "                        print(\"Loading last save ...\")\n",
    "                        json_save_n_load.LoadGame()\n",
    "\n",
    "                except FileNotFoundError:\n",
    "                        print(\"No save found\")\n",
    "            except:\n",
    "                print(\"problem in menu state.\")\n",
    "\n",
    "\n",
    "            \n",
    "        if state == 1: #noncombat phase\n",
    "            try:\n",
    "                print(\"nc\")\n",
    "            except:\n",
    "                print(\"problem with noncombat phase\")\n",
    "        if state == 2: #combat phase\n",
    "            try:\n",
    "                combat_sel = input(\"\")\n",
    "            except:\n",
    "                print(\"problem with combat phase\")\n",
    "            "
   ]
  },
  {
   "cell_type": "code",
   "execution_count": 20,
   "id": "b60b3606",
   "metadata": {},
   "outputs": [
    {
     "name": "stdout",
     "output_type": "stream",
     "text": [
      "saved to json_tst.json. Thanks for Playing!!\n",
      "loading json_tst.json...\n"
     ]
    },
    {
     "data": {
      "text/plain": [
       "'save pls'"
      ]
     },
     "execution_count": 20,
     "metadata": {},
     "output_type": "execute_result"
    }
   ],
   "source": [
    "data = \"save pls\"\n",
    "\n",
    "file_test = json_save_n_load(\"json_tst.json\")\n",
    "\n",
    "file_test.SaveGame(data)\n",
    "\n",
    "file_test.LoadGame()\n"
   ]
  },
  {
   "cell_type": "code",
   "execution_count": null,
   "id": "a79833f7",
   "metadata": {},
   "outputs": [],
   "source": []
  }
 ],
 "metadata": {
  "kernelspec": {
   "display_name": "base",
   "language": "python",
   "name": "python3"
  },
  "language_info": {
   "codemirror_mode": {
    "name": "ipython",
    "version": 3
   },
   "file_extension": ".py",
   "mimetype": "text/x-python",
   "name": "python",
   "nbconvert_exporter": "python",
   "pygments_lexer": "ipython3",
   "version": "3.12.7"
  }
 },
 "nbformat": 4,
 "nbformat_minor": 5
}
