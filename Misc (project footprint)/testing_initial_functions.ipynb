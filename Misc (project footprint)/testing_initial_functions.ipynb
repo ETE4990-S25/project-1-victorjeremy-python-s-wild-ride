{
 "cells": [
  {
   "cell_type": "code",
   "execution_count": null,
   "id": "b6e10a9e-6fc3-4a24-8024-c6f8d078517b",
   "metadata": {},
   "outputs": [],
   "source": [
    "#function to check if an dictionary hits an item limit\n",
    "def checklimit (inventory, limit):\n",
    "    indx = 0\n",
    "    for i in inventory:\n",
    "        indx+=1\n",
    "    if indx > limit:\n",
    "        return(False)\n",
    "    else:\n",
    "        return(True)"
   ]
  },
  {
   "cell_type": "code",
   "execution_count": 5,
   "id": "12f7d956-54cc-4f9d-bc0f-dc8fa327b927",
   "metadata": {},
   "outputs": [],
   "source": [
    "class Entity:\n",
    "    def __init__(self, name, description, inventory, team, hitpoints,):\n",
    "        \"\"\"establish all the parameters of an entity, playable or not\"\"\"\n",
    "        self.name = name\n",
    "        self.description = description\n",
    "        self.inventory = inventory\n",
    "        self.team = team\n",
    "        self.hitpoints = hitpoints\n",
    "\n",
    "    def Create():\n",
    "        \"\"\"create an entity with user input\"\"\"\n",
    "        name = input(\"add name\")\n",
    "        description = input(\"add description\")\n",
    "        inventory = {}\n",
    "        team = int(input(\"set team number\"))\n",
    "        hitpoints = int(input(\"set hitpoints\"))\n",
    "        return entity(name, description, inventory, team, hitpoints)\n",
    "\n",
    "    def addItem (item):\n",
    "        \"\"\"empty\"\"\"\n",
    "\n",
    "    "
   ]
  },
  {
   "cell_type": "code",
   "execution_count": null,
   "id": "784d54cf-c008-4602-bb46-5761014100a1",
   "metadata": {},
   "outputs": [],
   "source": [
    "def addtodict (targetdict, newkey, newvalue):\n",
    "    targetdict.update({newkey:newvalue})\n"
   ]
  },
  {
   "cell_type": "code",
   "execution_count": null,
   "id": "d8b61ff1-639d-408e-b6bf-46f30140c7d5",
   "metadata": {},
   "outputs": [],
   "source": []
  },
  {
   "cell_type": "code",
   "execution_count": 6,
   "id": "7eae9e24-6b20-4579-9ae6-09a3369fe212",
   "metadata": {},
   "outputs": [],
   "source": [
    "class item:\n",
    "    def __init__(self,name, desc, uses, dmg, jolliness):\n",
    "        \"\"\"create name, description, damage, and jolliness for an item\"\"\"\n",
    "        self.name = name\n",
    "        self.desc = desc\n",
    "        self.uses = uses\n",
    "        self.dmg = dmg\n",
    "        self.jolliness = jolliness\n",
    "\n",
    "    def use():\n",
    "        \"\"\"empty\"\"\"\n",
    "        if self.uses > 0:\n",
    "            print('we attack')\n",
    "        else:\n",
    "            print('we got no more juice')\n",
    "        "
   ]
  },
  {
   "cell_type": "code",
   "execution_count": null,
   "id": "32b529e3-4252-4814-9c75-8d74e4ddaaba",
   "metadata": {},
   "outputs": [],
   "source": []
  }
 ],
 "metadata": {
  "kernelspec": {
   "display_name": "Python 3",
   "language": "python",
   "name": "python3"
  },
  "language_info": {
   "codemirror_mode": {
    "name": "ipython",
    "version": 3
   },
   "file_extension": ".py",
   "mimetype": "text/x-python",
   "name": "python",
   "nbconvert_exporter": "python",
   "pygments_lexer": "ipython3",
   "version": "3.13.1"
  }
 },
 "nbformat": 4,
 "nbformat_minor": 5
}
