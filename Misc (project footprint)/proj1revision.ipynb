{
 "cells": [
  {
   "cell_type": "code",
   "execution_count": 1,
   "id": "7df2b83f-e634-4891-a115-06a030f24376",
   "metadata": {},
   "outputs": [],
   "source": [
    "class gamestates:\n",
    "    #gamestates include combat, noncombat\n",
    "    def gamecycle(gamestate):\n",
    "        state = gamestate\n",
    "        if state == 0: #menu\n",
    "            try:\n",
    "                print(\"m\")\n",
    "            except:\n",
    "                print(\"problem with menu state\")\n",
    "        if state == 1: #noncombat phase\n",
    "            try:\n",
    "                print(\"nc\")\n",
    "            except:\n",
    "                print(\"problem with noncombat phase\")\n",
    "        if state == 2: #combat phase\n",
    "            try:\n",
    "                print(\"c\")\n",
    "            except:\n",
    "                print(\"problem with combat phase\")\n",
    "            \n",
    "            "
   ]
  },
  {
   "cell_type": "code",
   "execution_count": 22,
   "id": "e2337a29-936d-4bae-9aaa-2ffcedcedf29",
   "metadata": {},
   "outputs": [],
   "source": [
    "class menu(player):\n",
    "    def createplayer():\n",
    "        #class layout: {'name' : [hp, weapon name, weapon description, weapon damage, weapon uses] }\n",
    "        classdict = {\"warrior\" : \n",
    "                     [120, \"Broadsword\", \"sharp slab of metal\", 45, 15],\n",
    "                     \"mage\" :\n",
    "                     [70, \"Fireball\", \"lethal thrown fire\", 60, 10],\n",
    "                     \"paladin\" :\n",
    "                     [220, \"Shield\", \"blunt short-ranged metal slab\", 15, 40]\n",
    "                    }\n",
    "        for i in classdict:\n",
    "            print (i)\n",
    "        flag = 1\n",
    "        while flag == 1:\n",
    "            temp = input(\"select a class to play\\n\").lower()\n",
    "            if temp in classdict:\n",
    "                #print(\"true\")\n",
    "                global playerteam\n",
    "                playerteam.append(player(temp, classdict[temp][0])\n",
    "                flag = 0\n",
    "                break\n",
    "            else: \n",
    "                print(\"invalid input, try again\")"
   ]
  },
  {
   "cell_type": "code",
   "execution_count": 17,
   "id": "9b2c2f61-a9db-4b2d-996a-d40caa5c2997",
   "metadata": {},
   "outputs": [
    {
     "name": "stdout",
     "output_type": "stream",
     "text": [
      "[120, 'Broadsword', 'sharp slab of metal', 45, 15]\n",
      "warrior\n",
      "mage\n",
      "paladin\n"
     ]
    },
    {
     "name": "stdin",
     "output_type": "stream",
     "text": [
      "select a class to play\n",
      " mage\n"
     ]
    },
    {
     "name": "stdout",
     "output_type": "stream",
     "text": [
      "[<__main__.player object at 0x0000023DC3DEB890>]\n"
     ]
    }
   ],
   "source": [
    "testdict = {\"warrior\" : \n",
    "                     [120, \"Broadsword\", \"sharp slab of metal\", 45, 15],\n",
    "                     \"mage\" :\n",
    "                     [70, \"Fireball\", \"lethal thrown fire\", 60, 10],\n",
    "                     \"paladin\" :\n",
    "                     [220, \"Shield\", \"blunt short-ranged metal slab\", 15, 40]\n",
    "                    }\n",
    "print(testdict[\"warrior\"])\n",
    "for i in testdict:\n",
    "    print (i)\n",
    "\n",
    "flag = 1\n",
    "while flag == 1:\n",
    "    temp = input(\"select a class to play\\n\").lower()\n",
    "    if temp in testdict:\n",
    "        #print(\"true\")\n",
    "        global playerteam\n",
    "        playerteam = []\n",
    "        playerteam.append(player(temp, testdict[temp][0]))\n",
    "        flag = 0\n",
    "        break\n",
    "    else: \n",
    "        print(\"invalid input, try again\")\n",
    "print(playerteam)"
   ]
  },
  {
   "cell_type": "code",
   "execution_count": 2,
   "id": "219f5a49-62a2-43e9-8065-3ec65b1921ed",
   "metadata": {},
   "outputs": [
    {
     "name": "stdout",
     "output_type": "stream",
     "text": [
      "nc\n",
      "m\n",
      "c\n"
     ]
    }
   ],
   "source": [
    "gamestates.gamecycle(1)\n",
    "gamestates.gamecycle(0)\n",
    "gamestates.gamecycle(2)"
   ]
  },
  {
   "cell_type": "code",
   "execution_count": 29,
   "id": "f73d02a2-313b-43ff-93ec-cfaa43c0ff15",
   "metadata": {},
   "outputs": [],
   "source": [
    "class combat:\n",
    "    def initialize():\n",
    "        global playerteam\n",
    "        playerteam = []\n",
    "        global enemyteam\n",
    "        enemyteam = []\n",
    "        print(\"1a\")\n",
    "\n",
    "    def combatcycle(combatstate):\n",
    "        state = combatstate\n",
    "        if state == 0: #combat start\n",
    "            print(\"a\") #indicate that combat has started\n",
    "            #teams should be initialized\n",
    "            combat.initialize()\n",
    "            \n",
    "        if state == 1: #player turn\n",
    "            print(\"b\") #player can take action\n",
    "            try:\n",
    "                print(\"b1\")\n",
    "                print(\"enemies on the field:\")\n",
    "                enemyindex = 0\n",
    "                for enemy in enemyteam:\n",
    "                    print(f\"at position {enemyindex}, {enemy.name} with {enemy.hitpoints} hitpoints\")\n",
    "                    enemyindex += 1\n",
    "                \n",
    "            except:\n",
    "                print(\"problem during player turn\")\n",
    "            \n",
    "            \n",
    "        if state == 2: #enemy turn\n",
    "            #print(\"c\") #enemy chooses the last item in the playerteam to attack\n",
    "            try:\n",
    "                if len(playerteam) == 0:\n",
    "                    print(\"all allies have been eliminated\")\n",
    "                elif playerteam[-1].hitpoints > 0:\n",
    "                    #print(\"ec\")\n",
    "                    for enemy in enemyteam:\n",
    "                        print(f\"{enemy.name} attacks\")\n",
    "                        playerteam[-1].hurt(70)\n",
    "                        if playerteam[-1].checkdeath() == 1:\n",
    "                            #print (\"at\")\n",
    "                            del playerteam[-1]\n",
    "                            \n",
    "                \n",
    "            except:\n",
    "                print(\"problem during enemy turn\")\n",
    "                    \n",
    "            \n",
    "        if state == 3: #intermission\n",
    "            print(\"d\") #displays health of every entity that remains\n",
    "            try:\n",
    "                if len(playerteam) > 0:\n",
    "                    for ally in playerteam:\n",
    "                        print(f\"{ally.name} has {ally.hitpoints} hitpoints remaining\")\n",
    "                if len(enemyteam) > 0:\n",
    "                    for enemy in enemyteam:\n",
    "                        print(f\"{enemy.name} has {enemy.hitpoints} hitpoints remaining\")\n",
    "                if (len(playerteam) == 0) or (len(enemyteam) == 0):\n",
    "                    combat.combatcycle(4)\n",
    "                \n",
    "            except:\n",
    "                print(\"problem during intermission\")\n",
    "\n",
    "        if state == 4: #end combat cycle\n",
    "            print(\"e\")\n",
    "            try:\n",
    "                if len(playerteam) == 0:\n",
    "                    print(\"game over\")\n",
    "                elif len(enemyteam) == 0:\n",
    "                    print(\"combat over\")\n",
    "            except:\n",
    "                print(\"problem during end combat\")\n",
    "            "
   ]
  },
  {
   "cell_type": "code",
   "execution_count": 23,
   "id": "33d9acf9-0aad-4f1b-b0c9-8daad8ac6c7f",
   "metadata": {},
   "outputs": [
    {
     "name": "stdout",
     "output_type": "stream",
     "text": [
      "cycle state 0\n",
      "a\n",
      "1a\n",
      "cycle state 1\n",
      "b\n",
      "b1\n",
      "enemies on the field:\n",
      "cycle state 2\n",
      "all allies have been eliminated\n",
      "cycle state 3\n",
      "d\n",
      "e\n",
      "game over\n"
     ]
    }
   ],
   "source": [
    "for i in range(4):\n",
    "    print(f\"cycle state {i}\")\n",
    "    combat.combatcycle(i)"
   ]
  },
  {
   "cell_type": "code",
   "execution_count": 24,
   "id": "4ffa8a49-8f51-4ee2-947e-2b6c54f972f9",
   "metadata": {},
   "outputs": [
    {
     "data": {
      "text/plain": [
       "0"
      ]
     },
     "execution_count": 24,
     "metadata": {},
     "output_type": "execute_result"
    }
   ],
   "source": [
    "lst = []\n",
    "len(lst)"
   ]
  },
  {
   "cell_type": "code",
   "execution_count": 25,
   "id": "8f0b52a2-37c6-44e5-8290-96c1ccd14b04",
   "metadata": {},
   "outputs": [],
   "source": [
    "global playerteam\n",
    "playerteam.append(entity(\"player1\", 100))"
   ]
  },
  {
   "cell_type": "code",
   "execution_count": 30,
   "id": "1e31f54f-39db-4210-a916-8c55fa184b20",
   "metadata": {},
   "outputs": [
    {
     "name": "stdout",
     "output_type": "stream",
     "text": [
      "[<__main__.entity object at 0x00000179981AAE90>]\n"
     ]
    }
   ],
   "source": [
    "global playerteam\n",
    "print(playerteam)"
   ]
  },
  {
   "cell_type": "code",
   "execution_count": 27,
   "id": "8736c9c7-47dc-4a25-ae4a-36fecb498546",
   "metadata": {},
   "outputs": [],
   "source": [
    "global enemyteam\n",
    "enemyteam.append(entity(\"enemy1\", 100))"
   ]
  },
  {
   "cell_type": "code",
   "execution_count": 28,
   "id": "dec4e1b4-a4dd-49c5-a9e3-34d573db4fa3",
   "metadata": {},
   "outputs": [
    {
     "name": "stdout",
     "output_type": "stream",
     "text": [
      "[<__main__.entity object at 0x00000179982FFCE0>]\n"
     ]
    }
   ],
   "source": [
    "global enemyteam\n",
    "print(enemyteam)"
   ]
  },
  {
   "cell_type": "code",
   "execution_count": 31,
   "id": "73b9630a-7f40-49dc-8c71-7ad2f4443c7c",
   "metadata": {},
   "outputs": [
    {
     "name": "stdout",
     "output_type": "stream",
     "text": [
      "b\n",
      "b1\n",
      "enemies on the field:\n",
      "at position 0, enemy1 with 100 hitpoints\n",
      "enemy1 attacks\n",
      "70 damage dealt to player1\n",
      "d\n",
      "player1 has 30 hitpoints remaining\n",
      "enemy1 has 100 hitpoints remaining\n"
     ]
    }
   ],
   "source": [
    "combat.combatcycle(1)\n",
    "combat.combatcycle(2)\n",
    "combat.combatcycle(3)"
   ]
  },
  {
   "cell_type": "code",
   "execution_count": 32,
   "id": "f4925a90-0e3f-4b2e-9f9a-bd0cf8d31b5a",
   "metadata": {},
   "outputs": [
    {
     "data": {
      "text/plain": [
       "30"
      ]
     },
     "execution_count": 32,
     "metadata": {},
     "output_type": "execute_result"
    }
   ],
   "source": [
    "global playerteam\n",
    "playerteam[-1].hitpoints"
   ]
  },
  {
   "cell_type": "code",
   "execution_count": 11,
   "id": "789314ed-079e-406d-8e71-16cf5c88c2e0",
   "metadata": {},
   "outputs": [],
   "source": [
    "class inventory:\n",
    "    def __init__(self):\n",
    "        \"\"\"establish inventory and limits for weapons and items\"\"\"\n",
    "        self.weaponlimit = 3\n",
    "        self.itemlimit = 5\n",
    "        self.weapons = {}\n",
    "        self.items = {}\n",
    "        \n",
    "    def addweapon(self, weapon):\n",
    "        try:\n",
    "            if len(self.weapons) <= self.weaponlimit:\n",
    "                self.weapons.update({weapon.name:weapon})\n",
    "                print(f\"{weapon.name} added to inventory\")\n",
    "        except:\n",
    "            print(\"problem in addweapon\")\n",
    "            \n",
    "    def removeweapon(self, weapon):\n",
    "        try:\n",
    "            if weapon in self.weapons:\n",
    "                self.weapons.pop(weapon)\n",
    "                print(f\"{weapon.name} removed from inventory\")\n",
    "            else:\n",
    "                print(\"weapon does not exist\")\n",
    "            \n",
    "\n",
    "        except:\n",
    "            print(\"problem in removeweapon\")\n",
    "        "
   ]
  },
  {
   "cell_type": "code",
   "execution_count": 12,
   "id": "ad2c9865-3631-41fa-bbf1-50f552fbbd77",
   "metadata": {},
   "outputs": [],
   "source": [
    "testinv = inventory()"
   ]
  },
  {
   "cell_type": "code",
   "execution_count": 13,
   "id": "28cbe9f6-221f-403a-855f-2be3c1fab532",
   "metadata": {},
   "outputs": [
    {
     "name": "stdout",
     "output_type": "stream",
     "text": [
      "3\n",
      "5\n"
     ]
    }
   ],
   "source": [
    "print(testinv.weaponlimit)\n",
    "print(testinv.itemlimit)\n"
   ]
  },
  {
   "cell_type": "code",
   "execution_count": 8,
   "id": "6fcd911f-b9ff-4d56-a42f-aada5c99e58c",
   "metadata": {},
   "outputs": [],
   "source": [
    "class item:\n",
    "    def __init__(self, name, desc, uses):\n",
    "        \"\"\"create name, description, uses for an item\"\"\"\n",
    "        self.name = name # name of the item\n",
    "        self.desc = desc # item description\n",
    "        self.uses = uses # how many times the item can be used\n",
    "\n",
    "        \n",
    "    def checkuses(self):\n",
    "        \"\"\"verifies that the item can be used\"\"\"\n",
    "        try:\n",
    "            #print(f\"{self.name} is used!\")\n",
    "            if self.uses > 0:\n",
    "                return True\n",
    "\n",
    "            else:\n",
    "                return False\n",
    "        except:\n",
    "            print(\"problem in consume, item class\")\n",
    "\n",
    "    def inspect(self):\n",
    "        print(f\"{self.desc} \\nit appears to have {self.uses} uses left\")"
   ]
  },
  {
   "cell_type": "code",
   "execution_count": 9,
   "id": "ef99f6a6-64b1-42ce-a03f-cad168f1ab0f",
   "metadata": {},
   "outputs": [],
   "source": [
    "class weapon(item):\n",
    "    def __init__(self, name, desc, uses, damage):\n",
    "        super().__init__(name, desc, uses)\n",
    "        self.damage = damage\n",
    "\n",
    "    def use(self):\n",
    "        try:\n",
    "            if self.checkuses() == True:\n",
    "                print(f\"{self.name} is used to strike\")\n",
    "                self.uses -= 1\n",
    "                if self.checkuses() == False:\n",
    "                    print(f\"{self.name} has broken from the attack\")\n",
    "            else:\n",
    "                print(f\"{self.name} is no longer usable\")\n",
    "        except:\n",
    "            print(\"problem in use, weapon class\")\n",
    "    "
   ]
  },
  {
   "cell_type": "code",
   "execution_count": 12,
   "id": "61338a74-b6e6-4ed5-8a76-3e9535e1d7ce",
   "metadata": {},
   "outputs": [],
   "source": [
    "class utilityitem(item):\n",
    "    def __init__(self, name, desc, uses, modifier):\n",
    "        super().__init__(name, desc, uses)\n",
    "        self.modifier = modifier\n",
    "    def use(self):\n",
    "        try:\n",
    "            if self.checkuses() == True:\n",
    "                print(f\"{self.name} is used\")\n",
    "                self.uses -= 1\n",
    "            else:\n",
    "                print(f\"{self.name} is no longer usable\")\n",
    "        except:\n",
    "            print(\"problem in use, weapon class\")\n",
    "        "
   ]
  },
  {
   "cell_type": "code",
   "execution_count": 11,
   "id": "8924b843-616c-40e8-9716-168fb9ad80ee",
   "metadata": {},
   "outputs": [
    {
     "name": "stdout",
     "output_type": "stream",
     "text": [
      "tester\n",
      "testdesc\n",
      "99\n",
      "999\n",
      "testdesc \n",
      "it appears to have 99 uses left\n"
     ]
    }
   ],
   "source": [
    "testweapon = weapon(\"tester\", \"testdesc\", 99, 999)\n",
    "print(testweapon.name)\n",
    "print(testweapon.desc)\n",
    "print(testweapon.uses)\n",
    "print(testweapon.damage)\n",
    "testweapon.inspect()"
   ]
  },
  {
   "cell_type": "code",
   "execution_count": 9,
   "id": "b3cfe637-3614-4e92-8b4c-42c3ecb20d8e",
   "metadata": {},
   "outputs": [],
   "source": [
    "class entity:\n",
    "    def __init__(self, name, hitpoints):\n",
    "        self.name = name\n",
    "        self.hitpoints = hitpoints\n",
    "        self.modifiers = []\n",
    "\n",
    "    def hurt(self,source):\n",
    "        try:\n",
    "            if self.hitpoints >= 1:\n",
    "                self.hitpoints -= source\n",
    "                print(f\"{source} damage dealt to {self.name}\")\n",
    "        except:\n",
    "            print(\"problem in hurt, entity class\")\n",
    "\n",
    "    def checkdeath(self):\n",
    "        if self.hitpoints <= 0:\n",
    "            \n",
    "            print(f\"{self.name} has been eliminated!\")\n",
    "            return 1\n",
    "            "
   ]
  },
  {
   "cell_type": "code",
   "execution_count": 10,
   "id": "135ec406-c866-4887-a5b1-a7bfcf2c9909",
   "metadata": {},
   "outputs": [],
   "source": [
    "class player(entity):\n",
    "    def __init__(self, name, hitpoints):\n",
    "        super().__init__(name, hitpoints)\n",
    "        self.inventory = inventory()"
   ]
  },
  {
   "cell_type": "code",
   "execution_count": 21,
   "id": "2131fa38-e0c1-43b9-97e4-09f74a3c4644",
   "metadata": {},
   "outputs": [
    {
     "name": "stdout",
     "output_type": "stream",
     "text": [
      "bob\n",
      "120\n",
      "{}\n"
     ]
    }
   ],
   "source": [
    "testplayer = player(\"bob\", 120)\n",
    "print(testplayer.name)\n",
    "print(testplayer.hitpoints)\n",
    "print(testplayer.inventory.weapons)"
   ]
  },
  {
   "cell_type": "code",
   "execution_count": null,
   "id": "b9c7601f-5fe5-44a9-8f96-defaadc0ea6b",
   "metadata": {},
   "outputs": [],
   "source": []
  }
 ],
 "metadata": {
  "kernelspec": {
   "display_name": "Python 3 (ipykernel)",
   "language": "python",
   "name": "python3"
  },
  "language_info": {
   "codemirror_mode": {
    "name": "ipython",
    "version": 3
   },
   "file_extension": ".py",
   "mimetype": "text/x-python",
   "name": "python",
   "nbconvert_exporter": "python",
   "pygments_lexer": "ipython3",
   "version": "3.13.1"
  }
 },
 "nbformat": 4,
 "nbformat_minor": 5
}
