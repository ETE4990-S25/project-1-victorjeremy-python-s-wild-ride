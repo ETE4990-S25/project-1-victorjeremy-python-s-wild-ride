{
 "cells": [
  {
   "cell_type": "code",
   "execution_count": 147,
   "id": "7df2b83f-e634-4891-a115-06a030f24376",
   "metadata": {},
   "outputs": [],
   "source": [
    "class gamestates:\n",
    "    #gamestates include combat, noncombat\n",
    "    def gamecycle(gamestate):\n",
    "        state = gamestate\n",
    "        if state == 0: #menu\n",
    "            try:\n",
    "                menu.createplayer()\n",
    "            except:\n",
    "                print(\"problem with menu state\")\n",
    "        if state == 1: #noncombat phase\n",
    "            try:\n",
    "                print(\"nc\")\n",
    "            except:\n",
    "                print(\"problem with noncombat phase\")\n",
    "        if state == 2: #combat phase\n",
    "            try:\n",
    "                print(\"c\")\n",
    "                combat.combatloop()\n",
    "            except:\n",
    "                print(\"problem with combat phase\")\n",
    "                \n",
    "    def gameloop():\n",
    "        global playerteam\n",
    "        global score\n",
    "        score = 0\n",
    "        gamestates.gamecycle(0)\n",
    "        while len(playerteam) > 0:\n",
    "            gamestates.gamecycle(1)\n",
    "            gamestates.gamecycle(2)\n",
    "        \n",
    "            "
   ]
  },
  {
   "cell_type": "code",
   "execution_count": 149,
   "id": "49ca5e89-ec50-4077-a056-160b9029c7ee",
   "metadata": {},
   "outputs": [
    {
     "name": "stdout",
     "output_type": "stream",
     "text": [
      "warrior\n",
      "mage\n",
      "paladin\n"
     ]
    },
    {
     "name": "stdin",
     "output_type": "stream",
     "text": [
      "select a class to play\n",
      " warrior\n"
     ]
    },
    {
     "name": "stdout",
     "output_type": "stream",
     "text": [
      "nc\n",
      "c\n",
      "enemies on the field:\n",
      "at position 0, rat with 72 hitpoints\n"
     ]
    },
    {
     "name": "stdin",
     "output_type": "stream",
     "text": [
      "choose an enemy position to attack 0\n"
     ]
    },
    {
     "name": "stdout",
     "output_type": "stream",
     "text": [
      "broadsword\n"
     ]
    },
    {
     "name": "stdin",
     "output_type": "stream",
     "text": [
      "select weapon to use broadsword\n"
     ]
    },
    {
     "name": "stdout",
     "output_type": "stream",
     "text": [
      "broadsword is used to strike\n",
      "60 damage dealt to rat\n",
      "rat attacks\n",
      "44 damage dealt to warrior\n",
      "warrior has 76 hitpoints remaining\n",
      "rat has 12 hitpoints remaining\n",
      "enemies on the field:\n",
      "at position 0, rat with 12 hitpoints\n"
     ]
    },
    {
     "name": "stdin",
     "output_type": "stream",
     "text": [
      "choose an enemy position to attack 0\n"
     ]
    },
    {
     "name": "stdout",
     "output_type": "stream",
     "text": [
      "broadsword\n"
     ]
    },
    {
     "name": "stdin",
     "output_type": "stream",
     "text": [
      "select weapon to use broadsword\n"
     ]
    },
    {
     "name": "stdout",
     "output_type": "stream",
     "text": [
      "broadsword is used to strike\n",
      "52 damage dealt to rat\n",
      "rat has been eliminated!\n",
      "1 score\n",
      "there are no enemies to fight\n",
      "e\n",
      "combat over\n",
      "nc\n",
      "c\n",
      "enemies on the field:\n",
      "at position 0, rat with 63 hitpoints\n"
     ]
    },
    {
     "name": "stdin",
     "output_type": "stream",
     "text": [
      "choose an enemy position to attack 0\n"
     ]
    },
    {
     "name": "stdout",
     "output_type": "stream",
     "text": [
      "broadsword\n"
     ]
    },
    {
     "name": "stdin",
     "output_type": "stream",
     "text": [
      "select weapon to use broadsword\n"
     ]
    },
    {
     "name": "stdout",
     "output_type": "stream",
     "text": [
      "broadsword is used to strike\n",
      "80 damage dealt to rat\n",
      "rat has been eliminated!\n",
      "1 score\n",
      "there are no enemies to fight\n",
      "e\n",
      "combat over\n",
      "nc\n",
      "c\n",
      "enemies on the field:\n",
      "at position 0, rat with 46 hitpoints\n"
     ]
    },
    {
     "name": "stdin",
     "output_type": "stream",
     "text": [
      "choose an enemy position to attack 0\n"
     ]
    },
    {
     "name": "stdout",
     "output_type": "stream",
     "text": [
      "broadsword\n"
     ]
    },
    {
     "name": "stdin",
     "output_type": "stream",
     "text": [
      "select weapon to use broadsword\n"
     ]
    },
    {
     "name": "stdout",
     "output_type": "stream",
     "text": [
      "broadsword is used to strike\n",
      "71 damage dealt to rat\n",
      "rat has been eliminated!\n",
      "1 score\n",
      "there are no enemies to fight\n",
      "e\n",
      "combat over\n",
      "nc\n",
      "c\n",
      "enemies on the field:\n",
      "at position 0, rat with 39 hitpoints\n"
     ]
    },
    {
     "name": "stdin",
     "output_type": "stream",
     "text": [
      "choose an enemy position to attack 0\n"
     ]
    },
    {
     "name": "stdout",
     "output_type": "stream",
     "text": [
      "broadsword\n"
     ]
    },
    {
     "name": "stdin",
     "output_type": "stream",
     "text": [
      "select weapon to use broadsword\n"
     ]
    },
    {
     "name": "stdout",
     "output_type": "stream",
     "text": [
      "broadsword is used to strike\n",
      "72 damage dealt to rat\n",
      "rat has been eliminated!\n",
      "1 score\n",
      "there are no enemies to fight\n",
      "e\n",
      "combat over\n",
      "nc\n",
      "c\n",
      "enemies on the field:\n",
      "at position 0, rat with 40 hitpoints\n",
      "problem during player turn\n",
      "rat attacks\n",
      "35 damage dealt to warrior\n",
      "warrior has 41 hitpoints remaining\n",
      "rat has 40 hitpoints remaining\n",
      "enemies on the field:\n",
      "at position 0, rat with 40 hitpoints\n",
      "problem during player turn\n",
      "rat attacks\n",
      "36 damage dealt to warrior\n",
      "warrior has 5 hitpoints remaining\n",
      "rat has 40 hitpoints remaining\n",
      "enemies on the field:\n",
      "at position 0, rat with 40 hitpoints\n",
      "problem during player turn\n",
      "rat attacks\n",
      "49 damage dealt to warrior\n",
      "warrior has been eliminated!\n",
      "e\n",
      "game over\n",
      "0\n"
     ]
    }
   ],
   "source": [
    "gamestates.gameloop()"
   ]
  },
  {
   "cell_type": "code",
   "execution_count": 84,
   "id": "e2337a29-936d-4bae-9aaa-2ffcedcedf29",
   "metadata": {},
   "outputs": [],
   "source": [
    "import random\n",
    "\n",
    "class item:\n",
    "    def __init__(self, name, desc, uses):\n",
    "        \"\"\"create name, description, uses for an item\"\"\"\n",
    "        self.name = name # name of the item\n",
    "        self.desc = desc # item description\n",
    "        self.uses = uses # how many times the item can be used\n",
    "\n",
    "        \n",
    "    def checkuses(self):\n",
    "        \"\"\"verifies that the item can be used\"\"\"\n",
    "        try:\n",
    "            #print(f\"{self.name} is used!\")\n",
    "            if self.uses > 0:\n",
    "                return True\n",
    "\n",
    "            else:\n",
    "                return False\n",
    "        except:\n",
    "            print(\"problem in consume, item class\")\n",
    "\n",
    "    def inspect(self):\n",
    "        print(f\"{self.desc} \\nit appears to have {self.uses} uses left\")\n",
    "#end item class\n",
    "\n",
    "class weapon(item):\n",
    "    def __init__(self, name, desc, uses, damage):\n",
    "        super().__init__(name, desc, uses)\n",
    "        self.damage = damage\n",
    "\n",
    "    def use(self):\n",
    "        try:\n",
    "            if self.checkuses() == True:\n",
    "                print(f\"{self.name} is used to strike\")\n",
    "                self.uses -= 1\n",
    "                if self.checkuses() == False:\n",
    "                    print(f\"{self.name} has broken from the attack\")\n",
    "                return self.damage\n",
    "                \n",
    "            else:\n",
    "                print(f\"{self.name} is no longer usable\")\n",
    "                return 0\n",
    "        except:\n",
    "            print(\"problem in use, weapon class\")\n",
    "#end weapon class\n",
    "\n",
    "class inventory:\n",
    "    def __init__(self):\n",
    "        \"\"\"establish inventory and limits for weapons and items\"\"\"\n",
    "        self.weaponlimit = 3\n",
    "        self.itemlimit = 5\n",
    "        self.weapons = {}\n",
    "        self.items = {}\n",
    "        \n",
    "    def addweapon(self, weapon):\n",
    "        \"\"\"adds weapon to inventory\"\"\"\n",
    "        try:\n",
    "            if len(self.weapons) <= self.weaponlimit:\n",
    "                self.weapons.update({weapon.name:weapon})\n",
    "                print(f\"{weapon.name} added to inventory\")\n",
    "        except:\n",
    "            print(\"problem in addweapon, inventory class\")\n",
    "            \n",
    "    def removeweapon(self, weapon):\n",
    "        \"\"\"removes weapon from inventory\"\"\"\n",
    "        try:\n",
    "            if weapon in self.weapons:\n",
    "                self.weapons.pop(weapon)\n",
    "                print(f\"{weapon.name} removed from inventory\")\n",
    "            else:\n",
    "                print(\"weapon does not exist\")\n",
    "            \n",
    "\n",
    "        except:\n",
    "            print(\"problem in removeweapon, inventory class\")\n",
    "#end inventory class\n",
    "\n",
    "\n",
    "class entity:\n",
    "    \"\"\"baseline for all 'living' things in the game, name and hitpoint args\"\"\"\n",
    "    def __init__(self, name, hitpoints):\n",
    "        self.name = name\n",
    "        self.hitpoints = hitpoints\n",
    "        self.modifiers = []\n",
    "\n",
    "    def hurt(self,source):\n",
    "        try:\n",
    "            if self.hitpoints >= 1:\n",
    "                self.hitpoints -= source\n",
    "                print(f\"{source} damage dealt to {self.name}\")\n",
    "        except:\n",
    "            print(\"problem in hurt, entity class\")\n",
    "\n",
    "    def checkdeath(self):\n",
    "        if self.hitpoints <= 0:\n",
    "            \n",
    "            print(f\"{self.name} has been eliminated!\")\n",
    "            return 1\n",
    "#end entity class\n",
    "            \n",
    "class player(entity):\n",
    "    \"\"\"creates player entity\"\"\"\n",
    "    def __init__(self, name, hitpoints):\n",
    "        super().__init__(name, hitpoints)\n",
    "        self.inventory = inventory()\n",
    "\n",
    "    def useweapon(self):\n",
    "        try:\n",
    "            for i in self.inventory.weapons:\n",
    "                print (i)\n",
    "            flag = 1\n",
    "            while flag == 1:\n",
    "                select = input(\"select weapon to use\").lower()\n",
    "                for i in self.inventory.weapons:\n",
    "                    if select == i.lower():\n",
    "                        flag = 0\n",
    "                        return self.inventory.weapons[i].use()\n",
    "                    else:\n",
    "                        print(\"invalid input, try again\")\n",
    "\n",
    "        except:\n",
    "            print(\"problem in useweapon, player class\")\n",
    "#end player class\n",
    "\n",
    "class enemyent(entity):\n",
    "    \"\"\"creates enemy entity\"\"\"\n",
    "    def __init__(self, name, hitpoints):\n",
    "        super().__init__(name, hitpoints)\n",
    "    def damage(self):\n",
    "        return random.randint(30,50)\n",
    "#end enemyent class\n",
    "            \n",
    "class menu(player):\n",
    "    def createplayer():\n",
    "        #class layout: {'name' : [hp, weapon name, weapon description, weapon damage, weapon uses] }\n",
    "        classdict = {\"warrior\" : \n",
    "                     [120, \"broadsword\", \"sharp slab of metal\", 45, 15],\n",
    "                     \"mage\" :\n",
    "                     [70, \"fireball\", \"lethal thrown fire\", 60, 10],\n",
    "                     \"paladin\" :\n",
    "                     [220, \"shield\", \"blunt short-ranged metal slab\", 15, 40]\n",
    "                    }\n",
    "        for i in classdict:\n",
    "            print (i)\n",
    "        flag = 1\n",
    "        while flag == 1:\n",
    "            temp = input(\"select a class to play\\n\").lower()\n",
    "            if temp in classdict:\n",
    "                #print(\"true\")\n",
    "                global playerteam\n",
    "                playerteam = []\n",
    "                #create player\n",
    "                playerteam.append(player(temp, classdict[temp][0]))\n",
    "                #add starting weapon to inventory\n",
    "                playerteam[0].inventory.weapons.update({classdict[temp][1]:\n",
    "                                                        #create an object from weapons class with name, description, damage, uses\n",
    "                                                weapon(classdict[temp][1], classdict[temp][2],classdict[temp][4],classdict[temp][3])\n",
    "                                               })\n",
    "                flag = 0\n",
    "                break\n",
    "            else: \n",
    "                print(\"invalid input, try again\")\n",
    "#end menu class"
   ]
  },
  {
   "cell_type": "code",
   "execution_count": 32,
   "id": "dd3a2144-f8f1-4699-a451-924ac3401417",
   "metadata": {},
   "outputs": [
    {
     "name": "stdout",
     "output_type": "stream",
     "text": [
      "Shield\n"
     ]
    }
   ],
   "source": [
    "global playerteam\n",
    "for i in playerteam[0].inventory.weapons:\n",
    "    print (i)"
   ]
  },
  {
   "cell_type": "code",
   "execution_count": 34,
   "id": "1010973b-c04d-4a74-93a3-d25c979a09d4",
   "metadata": {},
   "outputs": [
    {
     "name": "stdout",
     "output_type": "stream",
     "text": [
      "34\n"
     ]
    },
    {
     "name": "stdin",
     "output_type": "stream",
     "text": [
      "a A\n"
     ]
    },
    {
     "name": "stdout",
     "output_type": "stream",
     "text": [
      "a\n"
     ]
    }
   ],
   "source": [
    "print(random.randint(30,50))\n",
    "print(input(\"a\").lower())"
   ]
  },
  {
   "cell_type": "code",
   "execution_count": 28,
   "id": "0aad5155-3e14-4ac2-9867-96a8e1ec525d",
   "metadata": {},
   "outputs": [
    {
     "data": {
      "text/plain": [
       "220"
      ]
     },
     "execution_count": 28,
     "metadata": {},
     "output_type": "execute_result"
    }
   ],
   "source": [
    "testdict[temp][0]"
   ]
  },
  {
   "cell_type": "code",
   "execution_count": 69,
   "id": "9b2c2f61-a9db-4b2d-996a-d40caa5c2997",
   "metadata": {},
   "outputs": [
    {
     "name": "stdout",
     "output_type": "stream",
     "text": [
      "[120, 'broadsword', 'sharp slab of metal', 45, 15]\n",
      "warrior\n",
      "mage\n",
      "paladin\n"
     ]
    },
    {
     "name": "stdin",
     "output_type": "stream",
     "text": [
      "select a class to play\n",
      " paladin\n"
     ]
    },
    {
     "name": "stdout",
     "output_type": "stream",
     "text": [
      "[<__main__.player object at 0x000001760487ACF0>]\n",
      "15\n"
     ]
    }
   ],
   "source": [
    "testdict = {\"warrior\" : \n",
    "                     [120, \"broadsword\", \"sharp slab of metal\", 45, 15],\n",
    "                     \"mage\" :\n",
    "                     [70, \"fireball\", \"lethal thrown fire\", 60, 10],\n",
    "                     \"paladin\" :\n",
    "                     [220, \"shield\", \"blunt short-ranged metal slab\", 15, 40]\n",
    "                    }\n",
    "print(testdict[\"warrior\"])\n",
    "for i in testdict:\n",
    "    print (i)\n",
    "\n",
    "flag = 1\n",
    "while flag == 1:\n",
    "    temp = input(\"select a class to play\\n\").lower()\n",
    "    if temp in testdict:\n",
    "        #print(\"true\")\n",
    "        global playerteam\n",
    "        playerteam = []\n",
    "        playerteam.append(player(temp, testdict[temp][0]))\n",
    "        playerteam[0].inventory.weapons.update({testdict[temp][1]:\n",
    "                                                weapon(testdict[temp][1],testdict[temp][2],testdict[temp][4],testdict[temp][3])\n",
    "                                               })\n",
    "        flag = 0\n",
    "        break\n",
    "    else: \n",
    "        print(\"invalid input, try again\")\n",
    "print(playerteam)\n",
    "print(playerteam[0].inventory.weapons['shield'].damage)"
   ]
  },
  {
   "cell_type": "code",
   "execution_count": 130,
   "id": "9d205ad4-985c-496d-84c8-251cd083c964",
   "metadata": {},
   "outputs": [
    {
     "name": "stdout",
     "output_type": "stream",
     "text": [
      "warrior\n",
      "mage\n",
      "paladin\n"
     ]
    },
    {
     "name": "stdin",
     "output_type": "stream",
     "text": [
      "select a class to play\n",
      " mage\n"
     ]
    }
   ],
   "source": [
    "menu.createplayer()"
   ]
  },
  {
   "cell_type": "code",
   "execution_count": 86,
   "id": "4bb00508-1068-4c4a-82c9-9b8f650e529a",
   "metadata": {},
   "outputs": [
    {
     "data": {
      "text/plain": [
       "{'broadsword': <__main__.weapon at 0x17604879400>}"
      ]
     },
     "execution_count": 86,
     "metadata": {},
     "output_type": "execute_result"
    }
   ],
   "source": [
    "global playerteam\n",
    "playerteam[0].inventory.weapons"
   ]
  },
  {
   "cell_type": "code",
   "execution_count": 87,
   "id": "83f5ccb0-72ca-4903-95fb-0e30a4b0fac6",
   "metadata": {},
   "outputs": [
    {
     "name": "stdout",
     "output_type": "stream",
     "text": [
      "broadsword\n"
     ]
    },
    {
     "name": "stdin",
     "output_type": "stream",
     "text": [
      "select weapon to use broadsword\n"
     ]
    },
    {
     "name": "stdout",
     "output_type": "stream",
     "text": [
      "broadsword is used to strike\n"
     ]
    },
    {
     "data": {
      "text/plain": [
       "45"
      ]
     },
     "execution_count": 87,
     "metadata": {},
     "output_type": "execute_result"
    }
   ],
   "source": [
    "global playerteam\n",
    "playerteam[0].useweapon()"
   ]
  },
  {
   "cell_type": "code",
   "execution_count": 65,
   "id": "ea1b7e87-46f7-4fa1-bee4-c833a2d397b8",
   "metadata": {},
   "outputs": [
    {
     "name": "stdout",
     "output_type": "stream",
     "text": [
      "shield\n"
     ]
    },
    {
     "name": "stdin",
     "output_type": "stream",
     "text": [
      "select weapon to use shield\n"
     ]
    },
    {
     "name": "stdout",
     "output_type": "stream",
     "text": [
      "shield is used to strike\n",
      "15\n"
     ]
    }
   ],
   "source": [
    "global playerteam\n",
    "for i in playerteam[0].inventory.weapons:\n",
    "    print (i)\n",
    "    flag = 1\n",
    "    while flag == 1:\n",
    "        select = input(\"select weapon to use\").lower()\n",
    "        for i in playerteam[0].inventory.weapons:\n",
    "            if select == i.lower():\n",
    "                print(playerteam[0].inventory.weapons[i].use())\n",
    "                flag = 0\n",
    "                break\n",
    "            else:\n",
    "                print(\"invalid input, try again\")"
   ]
  },
  {
   "cell_type": "code",
   "execution_count": 48,
   "id": "219f5a49-62a2-43e9-8065-3ec65b1921ed",
   "metadata": {},
   "outputs": [
    {
     "name": "stdout",
     "output_type": "stream",
     "text": [
      "nc\n",
      "m\n",
      "c\n"
     ]
    }
   ],
   "source": [
    "gamestates.gamecycle(1)\n",
    "gamestates.gamecycle(0)\n",
    "gamestates.gamecycle(2)"
   ]
  },
  {
   "cell_type": "code",
   "execution_count": 141,
   "id": "f73d02a2-313b-43ff-93ec-cfaa43c0ff15",
   "metadata": {},
   "outputs": [],
   "source": [
    "class combat:\n",
    "    def initialize():\n",
    "        global enemyteam\n",
    "        enemyteam = []\n",
    "        #print(\"1a\")\n",
    "\n",
    "    def combatcycle(combatstate):\n",
    "        state = combatstate\n",
    "        if state == 0: #combat start\n",
    "            #print(\"a\") #indicate that combat has started\n",
    "            #teams should be initialized\n",
    "            combat.initialize()\n",
    "            combat.addenemy()\n",
    "            \n",
    "        if state == 1: #player turn\n",
    "            #print(\"b\") \n",
    "            #player can take action\n",
    "            try:\n",
    "                #print(\"b1\")\n",
    "                if (len(enemyteam) > 0) and (len(playerteam) > 0):\n",
    "                    print(\"enemies on the field:\")\n",
    "                    enemyindex = 0\n",
    "                    for enemy in enemyteam:\n",
    "                        print(f\"at position {enemyindex}, {enemy.name} with {enemy.hitpoints} hitpoints\")\n",
    "                        enemyindex += 1\n",
    "                    flag = 1\n",
    "                    while flag == 1:\n",
    "                        #breaks if someone puts a string :(\n",
    "                        select = int(input(\"choose an enemy position to attack\"))\n",
    "                        if select in range(enemyindex):\n",
    "                            enemyteam[select].hurt(playerteam[0].useweapon() + random.randint(0,40))\n",
    "                            #print (enemyteam[select])\n",
    "                            if enemyteam[select].checkdeath() == 1:\n",
    "                                global score\n",
    "                                score += 1\n",
    "                                print(f\"{score} score\")\n",
    "                                #print(select)\n",
    "                                del enemyteam[select]\n",
    "                            flag = 0\n",
    "                            break\n",
    "                        else:\n",
    "                            print(\"invalid input, try again\")\n",
    "                if len(enemyteam) == 0:\n",
    "                    print(\"there are no enemies to fight\")\n",
    "                elif len(playerteam) == 0:\n",
    "                    print(\"player no longer exists\")\n",
    "                \n",
    "            except:\n",
    "                print(\"problem during player turn\")\n",
    "            \n",
    "            \n",
    "        if state == 2: #enemy turn\n",
    "            #print(\"c\") #enemy chooses the last item in the playerteam to attack\n",
    "            try:\n",
    "                if len(playerteam) == 0:\n",
    "                    print(\"all allies have been eliminated\")\n",
    "                elif playerteam[-1].hitpoints > 0:\n",
    "                    #print(\"ec\")\n",
    "                    for enemy in enemyteam:\n",
    "                        print(f\"{enemy.name} attacks\")\n",
    "                        playerteam[-1].hurt(enemy.damage())\n",
    "                        if playerteam[-1].checkdeath() == 1:\n",
    "                            #print (\"at\")\n",
    "                            del playerteam[-1]\n",
    "                \n",
    "            except:\n",
    "                print(\"problem during enemy turn\")\n",
    "                    \n",
    "            \n",
    "        if state == 3: #intermission\n",
    "            #print(\"d\") #displays health of every entity that remains\n",
    "            try:\n",
    "                if len(playerteam) > 0:\n",
    "                    for ally in playerteam:\n",
    "                        print(f\"{ally.name} has {ally.hitpoints} hitpoints remaining\")\n",
    "                if len(enemyteam) > 0:\n",
    "                    for enemy in enemyteam:\n",
    "                        print(f\"{enemy.name} has {enemy.hitpoints} hitpoints remaining\")\n",
    "                \n",
    "            except:\n",
    "                print(\"problem during intermission\")\n",
    "\n",
    "        if state == 4: #end combat cycle\n",
    "            print(\"e\")\n",
    "            try:\n",
    "                if len(playerteam) == 0:\n",
    "                    print(\"game over\")\n",
    "                    print(score)\n",
    "                elif len(enemyteam) == 0:\n",
    "                    print(\"combat over\")\n",
    "            except:\n",
    "                print(\"problem during end combat\")\n",
    "                \n",
    "    def addenemy():\n",
    "        global enemyteam\n",
    "        enemyteam.append(enemyent(\"rat\", random.randint(20, 80)))\n",
    "                \n",
    "    def combatloop():\n",
    "        flag = 1\n",
    "        combat.combatcycle(0)\n",
    "        while flag == 1:\n",
    "            for i in range(3):\n",
    "                combat.combatcycle(i+1)\n",
    "                if (len(playerteam) == 0) or (len(enemyteam) == 0):\n",
    "                    combat.combatcycle(4)\n",
    "                    flag = 0\n",
    "                    break\n",
    "            "
   ]
  },
  {
   "cell_type": "code",
   "execution_count": 7,
   "id": "7254973a-cb50-4088-8e81-d78b0eb18ec8",
   "metadata": {},
   "outputs": [
    {
     "name": "stdout",
     "output_type": "stream",
     "text": [
      "1\n",
      "2\n",
      "3\n"
     ]
    }
   ],
   "source": [
    "for i in range(3):\n",
    "    print(i+1)"
   ]
  },
  {
   "cell_type": "code",
   "execution_count": 89,
   "id": "33d9acf9-0aad-4f1b-b0c9-8daad8ac6c7f",
   "metadata": {},
   "outputs": [
    {
     "name": "stdout",
     "output_type": "stream",
     "text": [
      "cycle state 0\n",
      "cycle state 1\n",
      "there are no enemies to fight\n",
      "cycle state 2\n",
      "cycle state 3\n",
      "d\n",
      "warrior has 120 hitpoints remaining\n"
     ]
    }
   ],
   "source": [
    "for i in range(4):\n",
    "    print(f\"cycle state {i}\")\n",
    "    combat.combatcycle(i)"
   ]
  },
  {
   "cell_type": "code",
   "execution_count": 9,
   "id": "4ffa8a49-8f51-4ee2-947e-2b6c54f972f9",
   "metadata": {},
   "outputs": [
    {
     "data": {
      "text/plain": [
       "0"
      ]
     },
     "execution_count": 9,
     "metadata": {},
     "output_type": "execute_result"
    }
   ],
   "source": [
    "lst = []\n",
    "len(lst)"
   ]
  },
  {
   "cell_type": "code",
   "execution_count": 1,
   "id": "8f0b52a2-37c6-44e5-8290-96c1ccd14b04",
   "metadata": {},
   "outputs": [
    {
     "ename": "NameError",
     "evalue": "name 'playerteam' is not defined",
     "output_type": "error",
     "traceback": [
      "\u001b[1;31m---------------------------------------------------------------------------\u001b[0m",
      "\u001b[1;31mNameError\u001b[0m                                 Traceback (most recent call last)",
      "Cell \u001b[1;32mIn[1], line 2\u001b[0m\n\u001b[0;32m      1\u001b[0m \u001b[38;5;28;01mglobal\u001b[39;00m playerteam\n\u001b[1;32m----> 2\u001b[0m \u001b[43mplayerteam\u001b[49m\u001b[38;5;241m.\u001b[39mappend(player(\u001b[38;5;124m\"\u001b[39m\u001b[38;5;124mplayer1\u001b[39m\u001b[38;5;124m\"\u001b[39m, \u001b[38;5;241m100\u001b[39m))\n",
      "\u001b[1;31mNameError\u001b[0m: name 'playerteam' is not defined"
     ]
    }
   ],
   "source": [
    "global playerteam\n",
    "playerteam.append(player(\"player1\", 100))"
   ]
  },
  {
   "cell_type": "code",
   "execution_count": 10,
   "id": "1e31f54f-39db-4210-a916-8c55fa184b20",
   "metadata": {},
   "outputs": [
    {
     "name": "stdout",
     "output_type": "stream",
     "text": [
      "[<__main__.player object at 0x00000176048782F0>]\n"
     ]
    }
   ],
   "source": [
    "global playerteam\n",
    "print(playerteam)"
   ]
  },
  {
   "cell_type": "code",
   "execution_count": 90,
   "id": "8736c9c7-47dc-4a25-ae4a-36fecb498546",
   "metadata": {},
   "outputs": [],
   "source": [
    "global enemyteam\n",
    "enemyteam.append(enemyent(\"enemy1\", 100))"
   ]
  },
  {
   "cell_type": "code",
   "execution_count": 91,
   "id": "dec4e1b4-a4dd-49c5-a9e3-34d573db4fa3",
   "metadata": {},
   "outputs": [
    {
     "name": "stdout",
     "output_type": "stream",
     "text": [
      "[<__main__.enemyent object at 0x000001760487A900>]\n"
     ]
    }
   ],
   "source": [
    "global enemyteam\n",
    "print(enemyteam)"
   ]
  },
  {
   "cell_type": "code",
   "execution_count": 93,
   "id": "020a017d-3d30-44cc-a673-ee38b37b3cef",
   "metadata": {},
   "outputs": [
    {
     "name": "stdout",
     "output_type": "stream",
     "text": [
      "50\n"
     ]
    }
   ],
   "source": [
    "global playerteam\n",
    "global enemyteam\n",
    "print (enemyteam[0].damage())\n",
    "#playerteam[-1].hurt(enemyteam[0].damage())"
   ]
  },
  {
   "cell_type": "code",
   "execution_count": 135,
   "id": "5ff4553a-0b2a-4ae2-8723-c26211d243b9",
   "metadata": {},
   "outputs": [
    {
     "name": "stdout",
     "output_type": "stream",
     "text": [
      "enemies on the field:\n",
      "at position 0, rat with 19 hitpoints\n"
     ]
    },
    {
     "name": "stdin",
     "output_type": "stream",
     "text": [
      "choose an enemy position to attack 0\n"
     ]
    },
    {
     "name": "stdout",
     "output_type": "stream",
     "text": [
      "fireball\n"
     ]
    },
    {
     "name": "stdin",
     "output_type": "stream",
     "text": [
      "select weapon to use fireball\n"
     ]
    },
    {
     "name": "stdout",
     "output_type": "stream",
     "text": [
      "fireball is used to strike\n",
      "91 damage dealt to rat\n",
      "rat has been eliminated!\n"
     ]
    },
    {
     "ename": "NameError",
     "evalue": "name 'score' is not defined",
     "output_type": "error",
     "traceback": [
      "\u001b[1;31m---------------------------------------------------------------------------\u001b[0m",
      "\u001b[1;31mNameError\u001b[0m                                 Traceback (most recent call last)",
      "Cell \u001b[1;32mIn[135], line 18\u001b[0m\n\u001b[0;32m     16\u001b[0m \u001b[38;5;28;01mif\u001b[39;00m enemyteam[select]\u001b[38;5;241m.\u001b[39mcheckdeath() \u001b[38;5;241m==\u001b[39m \u001b[38;5;241m1\u001b[39m:\n\u001b[0;32m     17\u001b[0m     \u001b[38;5;28;01mglobal\u001b[39;00m score\n\u001b[1;32m---> 18\u001b[0m     \u001b[43mscore\u001b[49m \u001b[38;5;241m+\u001b[39m\u001b[38;5;241m=\u001b[39m \u001b[38;5;241m1\u001b[39m\n\u001b[0;32m     19\u001b[0m     \u001b[38;5;28mprint\u001b[39m(select)\n\u001b[0;32m     20\u001b[0m     \u001b[38;5;28;01mdel\u001b[39;00m enemyteam[select]\n",
      "\u001b[1;31mNameError\u001b[0m: name 'score' is not defined"
     ]
    }
   ],
   "source": [
    "global enemyteam\n",
    "global playerteam\n",
    "if (len(enemyteam) > 0) and (len(playerteam) > 0):\n",
    "    print(\"enemies on the field:\")\n",
    "    enemyindex = 0\n",
    "    for enemy in enemyteam:\n",
    "        print(f\"at position {enemyindex}, {enemy.name} with {enemy.hitpoints} hitpoints\")\n",
    "        enemyindex += 1\n",
    "    flag = 1\n",
    "    while flag == 1:\n",
    "        #breaks if someone puts a string :(\n",
    "        select = int(input(\"choose an enemy position to attack\"))\n",
    "        if select in range(enemyindex):\n",
    "            enemyteam[select].hurt(playerteam[0].useweapon() + random.randint(0,40))\n",
    "            #print (enemyteam[select])\n",
    "            if enemyteam[select].checkdeath() == 1:\n",
    "                global score\n",
    "                score += 1\n",
    "                print(select)\n",
    "                del enemyteam[select]\n",
    "            flag = 0\n",
    "            break\n",
    "        else:\n",
    "            print(\"invalid input, try again\")\n",
    "if len(enemyteam) == 0:\n",
    "    print(\"there are no enemies to fight\")\n",
    "elif len(playerteam) == 0:\n",
    "    print(\"player no longer exists\")"
   ]
  },
  {
   "cell_type": "code",
   "execution_count": 137,
   "id": "73b9630a-7f40-49dc-8c71-7ad2f4443c7c",
   "metadata": {},
   "outputs": [
    {
     "name": "stdout",
     "output_type": "stream",
     "text": [
      "enemies on the field:\n",
      "at position 0, rat with 40 hitpoints\n"
     ]
    },
    {
     "name": "stdin",
     "output_type": "stream",
     "text": [
      "choose an enemy position to attack 0\n"
     ]
    },
    {
     "name": "stdout",
     "output_type": "stream",
     "text": [
      "fireball\n"
     ]
    },
    {
     "name": "stdin",
     "output_type": "stream",
     "text": [
      "select weapon to use fireball\n"
     ]
    },
    {
     "name": "stdout",
     "output_type": "stream",
     "text": [
      "fireball is used to strike\n",
      "63 damage dealt to rat\n",
      "rat has been eliminated!\n",
      "0\n",
      "there are no enemies to fight\n",
      "e\n",
      "combat over\n"
     ]
    }
   ],
   "source": [
    "combat.combatloop()"
   ]
  },
  {
   "cell_type": "code",
   "execution_count": 18,
   "id": "f4925a90-0e3f-4b2e-9f9a-bd0cf8d31b5a",
   "metadata": {},
   "outputs": [
    {
     "data": {
      "text/plain": [
       "179"
      ]
     },
     "execution_count": 18,
     "metadata": {},
     "output_type": "execute_result"
    }
   ],
   "source": [
    "global playerteam\n",
    "playerteam[-1].hitpoints"
   ]
  },
  {
   "cell_type": "code",
   "execution_count": 19,
   "id": "f341a597-af50-4f2c-b5ee-e4aa719479c7",
   "metadata": {},
   "outputs": [
    {
     "data": {
      "text/plain": [
       "{}"
      ]
     },
     "execution_count": 19,
     "metadata": {},
     "output_type": "execute_result"
    }
   ],
   "source": [
    "playerteam[-1].inventory.weapons"
   ]
  },
  {
   "cell_type": "code",
   "execution_count": 6,
   "id": "789314ed-079e-406d-8e71-16cf5c88c2e0",
   "metadata": {},
   "outputs": [],
   "source": []
  },
  {
   "cell_type": "code",
   "execution_count": 12,
   "id": "ad2c9865-3631-41fa-bbf1-50f552fbbd77",
   "metadata": {},
   "outputs": [],
   "source": [
    "testinv = inventory()"
   ]
  },
  {
   "cell_type": "code",
   "execution_count": 13,
   "id": "28cbe9f6-221f-403a-855f-2be3c1fab532",
   "metadata": {},
   "outputs": [
    {
     "name": "stdout",
     "output_type": "stream",
     "text": [
      "3\n",
      "5\n"
     ]
    }
   ],
   "source": [
    "print(testinv.weaponlimit)\n",
    "print(testinv.itemlimit)\n"
   ]
  },
  {
   "cell_type": "code",
   "execution_count": 7,
   "id": "6fcd911f-b9ff-4d56-a42f-aada5c99e58c",
   "metadata": {},
   "outputs": [],
   "source": [
    "class item:\n",
    "    def __init__(self, name, desc, uses):\n",
    "        \"\"\"create name, description, uses for an item\"\"\"\n",
    "        self.name = name # name of the item\n",
    "        self.desc = desc # item description\n",
    "        self.uses = uses # how many times the item can be used\n",
    "\n",
    "        \n",
    "    def checkuses(self):\n",
    "        \"\"\"verifies that the item can be used\"\"\"\n",
    "        try:\n",
    "            #print(f\"{self.name} is used!\")\n",
    "            if self.uses > 0:\n",
    "                return True\n",
    "\n",
    "            else:\n",
    "                return False\n",
    "        except:\n",
    "            print(\"problem in consume, item class\")\n",
    "\n",
    "    def inspect(self):\n",
    "        print(f\"{self.desc} \\nit appears to have {self.uses} uses left\")"
   ]
  },
  {
   "cell_type": "code",
   "execution_count": 8,
   "id": "ef99f6a6-64b1-42ce-a03f-cad168f1ab0f",
   "metadata": {},
   "outputs": [],
   "source": [
    "class weapon(item):\n",
    "    def __init__(self, name, desc, uses, damage):\n",
    "        super().__init__(name, desc, uses)\n",
    "        self.damage = damage\n",
    "\n",
    "    def use(self):\n",
    "        try:\n",
    "            if self.checkuses() == True:\n",
    "                print(f\"{self.name} is used to strike\")\n",
    "                self.uses -= 1\n",
    "                if self.checkuses() == False:\n",
    "                    print(f\"{self.name} has broken from the attack\")\n",
    "            else:\n",
    "                print(f\"{self.name} is no longer usable\")\n",
    "        except:\n",
    "            print(\"problem in use, weapon class\")\n",
    "    "
   ]
  },
  {
   "cell_type": "code",
   "execution_count": 9,
   "id": "61338a74-b6e6-4ed5-8a76-3e9535e1d7ce",
   "metadata": {},
   "outputs": [],
   "source": [
    "class utilityitem(item):\n",
    "    def __init__(self, name, desc, uses, modifier):\n",
    "        super().__init__(name, desc, uses)\n",
    "        self.modifier = modifier\n",
    "    def use(self):\n",
    "        try:\n",
    "            if self.checkuses() == True:\n",
    "                print(f\"{self.name} is used\")\n",
    "                self.uses -= 1\n",
    "            else:\n",
    "                print(f\"{self.name} is no longer usable\")\n",
    "        except:\n",
    "            print(\"problem in use, weapon class\")\n",
    "        "
   ]
  },
  {
   "cell_type": "code",
   "execution_count": 10,
   "id": "8924b843-616c-40e8-9716-168fb9ad80ee",
   "metadata": {},
   "outputs": [
    {
     "name": "stdout",
     "output_type": "stream",
     "text": [
      "tester\n",
      "testdesc\n",
      "99\n",
      "999\n",
      "testdesc \n",
      "it appears to have 99 uses left\n"
     ]
    }
   ],
   "source": [
    "testweapon = weapon(\"tester\", \"testdesc\", 99, 999)\n",
    "print(testweapon.name)\n",
    "print(testweapon.desc)\n",
    "print(testweapon.uses)\n",
    "print(testweapon.damage)\n",
    "testweapon.inspect()"
   ]
  },
  {
   "cell_type": "code",
   "execution_count": 4,
   "id": "b3cfe637-3614-4e92-8b4c-42c3ecb20d8e",
   "metadata": {},
   "outputs": [],
   "source": [
    "class entity:\n",
    "    def __init__(self, name, hitpoints):\n",
    "        self.name = name\n",
    "        self.hitpoints = hitpoints\n",
    "        self.modifiers = []\n",
    "\n",
    "    def hurt(self,source):\n",
    "        try:\n",
    "            if self.hitpoints >= 1:\n",
    "                self.hitpoints -= source\n",
    "                print(f\"{source} damage dealt to {self.name}\")\n",
    "        except:\n",
    "            print(\"problem in hurt, entity class\")\n",
    "\n",
    "    def checkdeath(self):\n",
    "        if self.hitpoints <= 0:\n",
    "            \n",
    "            print(f\"{self.name} has been eliminated!\")\n",
    "            return 1\n",
    "            "
   ]
  },
  {
   "cell_type": "code",
   "execution_count": 5,
   "id": "135ec406-c866-4887-a5b1-a7bfcf2c9909",
   "metadata": {},
   "outputs": [],
   "source": [
    "class player(entity):\n",
    "    def __init__(self, name, hitpoints):\n",
    "        super().__init__(name, hitpoints)\n",
    "        self.inventory = inventory()"
   ]
  },
  {
   "cell_type": "code",
   "execution_count": 21,
   "id": "2131fa38-e0c1-43b9-97e4-09f74a3c4644",
   "metadata": {},
   "outputs": [
    {
     "name": "stdout",
     "output_type": "stream",
     "text": [
      "bob\n",
      "120\n",
      "{}\n"
     ]
    }
   ],
   "source": [
    "testplayer = player(\"bob\", 120)\n",
    "print(testplayer.name)\n",
    "print(testplayer.hitpoints)\n",
    "print(testplayer.inventory.weapons)"
   ]
  },
  {
   "cell_type": "code",
   "execution_count": null,
   "id": "b9c7601f-5fe5-44a9-8f96-defaadc0ea6b",
   "metadata": {},
   "outputs": [],
   "source": []
  }
 ],
 "metadata": {
  "kernelspec": {
   "display_name": "Python 3 (ipykernel)",
   "language": "python",
   "name": "python3"
  },
  "language_info": {
   "codemirror_mode": {
    "name": "ipython",
    "version": 3
   },
   "file_extension": ".py",
   "mimetype": "text/x-python",
   "name": "python",
   "nbconvert_exporter": "python",
   "pygments_lexer": "ipython3",
   "version": "3.13.1"
  }
 },
 "nbformat": 4,
 "nbformat_minor": 5
}
