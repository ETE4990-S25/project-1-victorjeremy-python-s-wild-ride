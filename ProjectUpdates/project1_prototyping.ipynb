{
 "cells": [
  {
   "cell_type": "code",
   "execution_count": 15,
   "id": "deea32c1-acfd-471b-9721-97a4a8b3263d",
   "metadata": {},
   "outputs": [],
   "source": [
    "class Entity:\n",
    "    def __init__(self, name, description, inventory_limit, team, hitpoints,):\n",
    "        #Entities are characters/creatures that exist in the game\n",
    "        #all entities have hitpoints and 'die' if it reaches zero\n",
    "        \"\"\"establish all the parameters of an entity, playable or not\"\"\"\n",
    "        self.name = name # entity name\n",
    "        self.description = description # entity description\n",
    "        self.inventorylimit = inventory_limit\n",
    "        self.inventory = {} # entity inventory, in dictionary form\n",
    "        self.team = team # team number, in integer form\n",
    "        self.hitpoints = hitpoints # amount of damage the Entity can take before death, in integer form\n",
    "        self.livingstate = True # state of alive or dead, in boolean form\n",
    "\n",
    "    \n",
    "    def checklivingstate(self):\n",
    "        #boolean return meant to be used in other functions\n",
    "        #this function is for preventing someone from doing something if they are dead\n",
    "        \"\"\"checks if the entity is alive\"\"\"\n",
    "        return self.livingstate\n",
    "\n",
    "        \n",
    "    def hurt(self, damage):\n",
    "        #damages the entity, damage comes from an external source preferably the Item class or associated subclasses\n",
    "        \"\"\"receives damage, check if hitpoints are less than zero and declares false if true: requires argument 'damage' \"\"\" \n",
    "        self.hitpoints -= damage\n",
    "        if self.hitpoints < 0:\n",
    "            self.livingstate = False # false = dead\n",
    "\n",
    "            \n",
    "    def checkteam(self, target):\n",
    "        #takes the team integer from the entity and compares it\n",
    "        #this function is for preventing hurting someone on the same team\n",
    "        \"\"\"returns false if team numbers are the same, returns true otherwise: requires argument 'target' \"\"\"\n",
    "        if self.team == target.team:\n",
    "            return False # false = they are not on the same team\n",
    "        else:\n",
    "            return True # true = they are on the same team\n",
    "\n",
    "            \n",
    "    def checkinventorylimit(self):\n",
    "        #takes the inventory of the entity and checks it using the limit\n",
    "        \"\"\"checks if inventory space available is less than inventory limit \"\"\"\n",
    "        counter = 0 # temporary variable\n",
    "        for index in self.inventory: # for every element in the inventory\n",
    "            counter += 1\n",
    "        if counter < self.inventorylimit: # if number of elements in the inventory is less than the inventory limit \n",
    "            return True  #returns true if true, inventory is not full\n",
    "        else:\n",
    "            return False # returns false if inventory is full\n",
    "\n",
    "            \n",
    "    def additem (self, itemkey, itemvalue):\n",
    "        \"\"\"adds an item to the entity's inventory: requires argument 'itemkey' and 'itemvalue' \"\"\"\n",
    "        if self.checkinventorylimit() == True: #checks if there is space in the inventory\n",
    "            try:\n",
    "                self.inventory.update({itemkey:itemvalue}) #updates the inventory dictionary with given arguments\n",
    "            except:\n",
    "                print('error with item key or item value')\n",
    "        else:\n",
    "            print('inventory is full, items can no longer be added')\n",
    "\n",
    "            \n",
    "    def removeitem (self, item):\n",
    "        \"\"\"removes an item from the entity's inventory: requires argument 'item' \"\"\"\n",
    "        try:\n",
    "            self.inventory.pop(item) #removes the item argument from the inventory\n",
    "        except:\n",
    "            print('error with item name')\n",
    "\n",
    "    def displayinventory (self, target):\n",
    "        \"\"\" method to display the inventory of a selected entity \"\"\"\n",
    "        \n",
    "        \n",
    "            "
   ]
  },
  {
   "cell_type": "code",
   "execution_count": 16,
   "id": "663255ec-2c53-43e8-99e9-12e6a049f6f7",
   "metadata": {
    "editable": true,
    "slideshow": {
     "slide_type": ""
    },
    "tags": []
   },
   "outputs": [],
   "source": [
    "class Player(Entity):\n",
    "    #inherits from the class entity\n",
    "    def __init__(self, name, description, inventory_limit, team, hitpoints, playertype):\n",
    "        super().__init__(name, description, inventory_limit, team, hitpoints)\n",
    "        self.playertype = playertype # category that player selects to be their character\n",
    "        "
   ]
  },
  {
   "cell_type": "code",
   "execution_count": 5,
   "id": "f20eb558-3763-48a5-b6d1-51f74dffcda7",
   "metadata": {},
   "outputs": [],
   "source": [
    "gog = Player('gog', 'bah', 5, 1, 125, 'wizard')"
   ]
  },
  {
   "cell_type": "code",
   "execution_count": 20,
   "id": "7585ccd2-f368-4e74-addf-8b3901bcecc1",
   "metadata": {},
   "outputs": [],
   "source": [
    "feef = Weapon('loiter', 'delivers warm hugs', 4, 9999)"
   ]
  },
  {
   "cell_type": "code",
   "execution_count": 7,
   "id": "0bb7d024-3ccc-420f-af21-039e1db64b95",
   "metadata": {},
   "outputs": [
    {
     "data": {
      "text/plain": [
       "True"
      ]
     },
     "execution_count": 7,
     "metadata": {},
     "output_type": "execute_result"
    }
   ],
   "source": [
    "gog.checkinventorylimit()"
   ]
  },
  {
   "cell_type": "code",
   "execution_count": 8,
   "id": "113b3cfc-ea1b-44d0-a721-7cdea379a797",
   "metadata": {},
   "outputs": [],
   "source": [
    "gog.additem('drone 1', feef)"
   ]
  },
  {
   "cell_type": "code",
   "execution_count": 9,
   "id": "9eeac66f-032d-4974-89af-165bb88b36ae",
   "metadata": {},
   "outputs": [
    {
     "data": {
      "text/plain": [
       "{'drone 1': <__main__.Weapon at 0x220d38181a0>}"
      ]
     },
     "execution_count": 9,
     "metadata": {},
     "output_type": "execute_result"
    }
   ],
   "source": [
    "gog.inventory"
   ]
  },
  {
   "cell_type": "code",
   "execution_count": 10,
   "id": "a48188a2-7099-4e4b-8057-ffd6942b6f2e",
   "metadata": {},
   "outputs": [],
   "source": [
    "gog.additem('drone 2', feef)\n",
    "gog.additem('drone 3', feef)\n",
    "gog.additem('drone 4', feef)\n"
   ]
  },
  {
   "cell_type": "code",
   "execution_count": 11,
   "id": "c1457321-f0b8-4442-8cbe-64833ce5b4ac",
   "metadata": {},
   "outputs": [
    {
     "data": {
      "text/plain": [
       "True"
      ]
     },
     "execution_count": 11,
     "metadata": {},
     "output_type": "execute_result"
    }
   ],
   "source": [
    "gog.checkinventorylimit()"
   ]
  },
  {
   "cell_type": "code",
   "execution_count": 12,
   "id": "d5ff1257-e26e-482b-9bbd-027db7992eb6",
   "metadata": {},
   "outputs": [],
   "source": [
    "gog.additem('drone 5', feef)"
   ]
  },
  {
   "cell_type": "code",
   "execution_count": 13,
   "id": "f9c598d8-6a4e-422d-8935-2ab586a1e92d",
   "metadata": {},
   "outputs": [
    {
     "data": {
      "text/plain": [
       "False"
      ]
     },
     "execution_count": 13,
     "metadata": {},
     "output_type": "execute_result"
    }
   ],
   "source": [
    "gog.checkinventorylimit()"
   ]
  },
  {
   "cell_type": "code",
   "execution_count": 14,
   "id": "f6b83759-e029-4375-b462-0aba6b182da1",
   "metadata": {},
   "outputs": [
    {
     "name": "stdout",
     "output_type": "stream",
     "text": [
      "inventory is full, items can no longer be added\n"
     ]
    }
   ],
   "source": [
    "gog.additem('drone 6', feef)"
   ]
  },
  {
   "cell_type": "code",
   "execution_count": 18,
   "id": "a7c7421b-8b3b-4d20-8d4a-2662b15a9fde",
   "metadata": {},
   "outputs": [],
   "source": [
    "class Item:\n",
    "    def __init__(self, name, desc, uses):\n",
    "        \"\"\"create name, description, uses for an item\"\"\"\n",
    "        self.name = name # name of the item\n",
    "        self.desc = desc # item description\n",
    "        self.uses = uses # how many times the item can be used\n",
    "\n",
    "        \n",
    "    def consume(self):\n",
    "        \"\"\"takes 1 use from the item\"\"\"\n",
    "        print(f\"{self.name} is used!\")\n",
    "        if self.uses > 0:\n",
    "            self.uses -= 1 #subtracts one use from the item if it isnt zero already\n",
    "            return True\n",
    "            \n",
    "        else:\n",
    "            print('use failed!')\n",
    "            return False\n",
    "\n",
    "            \n",
    "    def checkconsume(self):\n",
    "        #function used to check if an item still has uses\n",
    "        \"\"\"checks if item can be consumed\"\"\"\n",
    "        if self.uses > 0:\n",
    "            return True\n",
    "        else:\n",
    "            return False\n",
    "\n",
    "            \n",
    "    def inspect(self):\n",
    "        \"\"\"returns the description of the item\"\"\""
   ]
  },
  {
   "cell_type": "code",
   "execution_count": 19,
   "id": "145ca4ab-4791-4580-ae5b-6885702857c8",
   "metadata": {},
   "outputs": [],
   "source": [
    "class Weapon(Item, Entity):\n",
    "    # inherits from classes Item and Entity\n",
    "    def __init__(self, name, desc, uses, damage):\n",
    "        \"\"\"child of item, introduces damage\"\"\"\n",
    "        super().__init__(name, desc, uses)\n",
    "    \n",
    "        self.damage = damage\n",
    "\n",
    "        \n",
    "    def attack(self, user, target):\n",
    "        #this method uses methods from two different classes :skull:\n",
    "        \"\"\"attacks with the weapon: requires arguments 'user' and 'target' \"\"\"\n",
    "        print(f\"{user.name} attacks {target.name} with {self.name}!\")\n",
    "        if self.checkconsume() & target.livingstate & user.checkteam(target) == True:\n",
    "        #self.checkconsume() - function in the Item class. returns bool checking if an item can be consumed\n",
    "        #target.state() - function in the Entity class. returns bool. False = dead, True = alive\n",
    "        #user.checkteam(target) - function in the Entity class. returns true if target is not on the same team\n",
    "        # if all([self.checkconsume(),target.state(),user.checkteam(target)]) == True:\n",
    "            try:\n",
    "                self.consume()\n",
    "                target.hurt(self.damage)\n",
    "                if target.state == False:\n",
    "                    print(f'{target.name} is dead')\n",
    "                else:\n",
    "                    print(f'{target.name} takes {self.damage} damage.')\n",
    "                #self.consume() - function in the Item class. \n",
    "                #target.hurt(argument) - function in the Entity class. subtracts argument from hitpoints\n",
    "                #self.damage() - parameter in the Weapon class - damage of the weapon\n",
    "                # in this code block:\n",
    "                # before attacking, check if item can be consumed, target is alive, and target is on another team\n",
    "                # consume 1 item use and apply damagw\n",
    "            except:\n",
    "                print(\"erm\")\n",
    "        else:\n",
    "            print(\"impossible\")\n",
    "            \n",
    "        "
   ]
  },
  {
   "cell_type": "code",
   "execution_count": 21,
   "id": "65afaf1e-1fed-497b-b14a-acdade9c0fee",
   "metadata": {},
   "outputs": [],
   "source": [
    "hooh = Weapon('drone', 'delivers warm hugs', 4, 9999)"
   ]
  },
  {
   "cell_type": "code",
   "execution_count": 5,
   "id": "6d6ab303-ee38-4451-89c2-f5190fea72f2",
   "metadata": {},
   "outputs": [
    {
     "name": "stdout",
     "output_type": "stream",
     "text": [
      "9999\n"
     ]
    }
   ],
   "source": [
    "print(hooh.damage)"
   ]
  },
  {
   "cell_type": "code",
   "execution_count": 6,
   "id": "c2d81e11-6798-4110-8388-0857e245592c",
   "metadata": {},
   "outputs": [],
   "source": [
    "gobb = Entity('gobb', 'n/a', {}, 2, 125)\n",
    "gog = Entity('gog', 'n/a', {}, 1, 300)"
   ]
  },
  {
   "cell_type": "code",
   "execution_count": 7,
   "id": "a64cf425-8655-4719-bf48-e365039badb4",
   "metadata": {},
   "outputs": [
    {
     "name": "stdout",
     "output_type": "stream",
     "text": [
      "gobb\n"
     ]
    }
   ],
   "source": [
    "print(gobb.name)"
   ]
  },
  {
   "cell_type": "code",
   "execution_count": 8,
   "id": "f5f22380-cac1-4b66-9d19-5ce7376c80ba",
   "metadata": {},
   "outputs": [
    {
     "data": {
      "text/plain": [
       "True"
      ]
     },
     "execution_count": 8,
     "metadata": {},
     "output_type": "execute_result"
    }
   ],
   "source": [
    "gog.checkteam(gobb)"
   ]
  },
  {
   "cell_type": "code",
   "execution_count": 9,
   "id": "5a339a9b-0ae3-48b2-9517-25fae1ef5c94",
   "metadata": {},
   "outputs": [
    {
     "name": "stdout",
     "output_type": "stream",
     "text": [
      "drone is used!\n"
     ]
    },
    {
     "data": {
      "text/plain": [
       "True"
      ]
     },
     "execution_count": 9,
     "metadata": {},
     "output_type": "execute_result"
    }
   ],
   "source": [
    "hooh.consume()"
   ]
  },
  {
   "cell_type": "code",
   "execution_count": 10,
   "id": "7c022581-d7cd-40e8-8d12-945be1024107",
   "metadata": {},
   "outputs": [
    {
     "name": "stdout",
     "output_type": "stream",
     "text": [
      "3\n"
     ]
    }
   ],
   "source": [
    "print(hooh.uses)"
   ]
  },
  {
   "cell_type": "code",
   "execution_count": 11,
   "id": "854cf18a-bd1f-49bd-9f5b-e122152107f5",
   "metadata": {},
   "outputs": [
    {
     "name": "stdout",
     "output_type": "stream",
     "text": [
      "drone is used!\n"
     ]
    },
    {
     "data": {
      "text/plain": [
       "True"
      ]
     },
     "execution_count": 11,
     "metadata": {},
     "output_type": "execute_result"
    }
   ],
   "source": [
    "hooh.consume()"
   ]
  },
  {
   "cell_type": "code",
   "execution_count": 12,
   "id": "665c29e7-f4a9-452e-a032-7826177d5453",
   "metadata": {},
   "outputs": [
    {
     "name": "stdout",
     "output_type": "stream",
     "text": [
      "gog attacks gobb with drone!\n",
      "drone is used!\n",
      "gobb is dead\n"
     ]
    }
   ],
   "source": [
    "hooh.attack(gog, gobb)"
   ]
  },
  {
   "cell_type": "code",
   "execution_count": 13,
   "id": "0c7c0673-e455-40e3-900c-4dc61b9e6631",
   "metadata": {},
   "outputs": [
    {
     "data": {
      "text/plain": [
       "-9874"
      ]
     },
     "execution_count": 13,
     "metadata": {},
     "output_type": "execute_result"
    }
   ],
   "source": [
    "gobb.hitpoints"
   ]
  },
  {
   "cell_type": "code",
   "execution_count": 14,
   "id": "dc36e2e0-fdbb-4490-be8d-04d06a900808",
   "metadata": {},
   "outputs": [
    {
     "data": {
      "text/plain": [
       "False"
      ]
     },
     "execution_count": 14,
     "metadata": {},
     "output_type": "execute_result"
    }
   ],
   "source": [
    "gobb.state"
   ]
  },
  {
   "cell_type": "code",
   "execution_count": 15,
   "id": "4c4448ee-8e56-43ea-83b8-7c77e92b9187",
   "metadata": {},
   "outputs": [
    {
     "name": "stdout",
     "output_type": "stream",
     "text": [
      "gog attacks gobb with drone!\n",
      "impossible\n"
     ]
    }
   ],
   "source": [
    "hooh.attack(gog, gobb)"
   ]
  },
  {
   "cell_type": "code",
   "execution_count": 2,
   "id": "164c1ef8-437b-4e56-8d9f-6ef42e5d9abc",
   "metadata": {},
   "outputs": [],
   "source": [
    "characterdict = {\n",
    "  \"magic\": [\n",
    "    {\"wizard\": ['wizard', 'tbd', 5, 1, 120]},\n",
    "    {\"sorcerer\": ['sorcerer', 'tbd', 5, 1, 120]},\n",
    "    {\"necromancer\": ['necromancer', 'tbd', 5, 1, 120]}\n",
    "  ],\n",
    "  \"brawler\": [\n",
    "    {\"barbarian\": ['barbarian', 'tbd', 5, 1, 120]},\n",
    "    {\"giant\": ['giant', 'tbd', 5, 1, 120]},\n",
    "    {\"gladiator\": ['gladiator', 'tbd', 5, 1, 120]}\n",
    "  ],\n",
    "  \"swordsman\": [\n",
    "    {\"samurai\": ['samurai', 'tbd', 5, 1, 120]},\n",
    "    {\"crusader\": ['crusader', 'tbd', 5, 1, 120]},\n",
    "    {\"buster\": ['buster', 'tbd', 5, 1, 120]}\n",
    "  ],\n",
    "  \"stealth\": [\n",
    "    {\"druid\": ['druid', 'tbd', 5, 1, 120]},\n",
    "    {\"ninja\": ['ninja', 'tbd', 5, 1, 120]},\n",
    "    {\"rogue\": ['rogue', 'tbd', 5, 1, 120]}\n",
    "  ],\n",
    "  \"healer\": [\n",
    "    {\"cleric\": ['cleric', 'tbd', 5, 1, 120]},\n",
    "    {\"sage\": ['sage', 'tbd', 5, 1, 120]},\n",
    "    {\"shaman\": ['shaman', 'tbd', 5, 1, 120]}\n",
    "  ]\n",
    "}"
   ]
  },
  {
   "cell_type": "code",
   "execution_count": 1,
   "id": "3893d583",
   "metadata": {},
   "outputs": [],
   "source": [
    "import json"
   ]
  },
  {
   "cell_type": "code",
   "execution_count": 4,
   "id": "4a0e744f-84f1-471d-94ce-c376fa4fc7c3",
   "metadata": {},
   "outputs": [],
   "source": [
    "class Menu:\n",
    "    def __init__(self):\n",
    "        \"\"\"empty\"\"\"\n",
    "    def playerselect(inputdict):\n",
    "        \"\"\"player selects class to play as\"\"\"\n",
    "        temp = input(\"select a class\\n\")\n",
    "        choice = temp.lower()\n",
    "        player = 0\n",
    "        index = 0\n",
    "        #this loop is designed to iterate through the heirarchy: dict/list/dict\n",
    "        if choice == \"help\":\n",
    "            print(\"here is what you can choose from\\n\")\n",
    "            for i in inputdict:\n",
    "                #print(i)\n",
    "                for j in inputdict[i]:\n",
    "                    # print(j)\n",
    "                    # print(index)\n",
    "                    for k in inputdict[i][index]:\n",
    "                        print(inputdict[i][index][k][0])\n",
    "                    index += 1\n",
    "                index = 0\n",
    "            choice = input(\"select a class, you get no more help\\n\")\n",
    "        for i in inputdict:\n",
    "            # print(i)\n",
    "            for j in inputdict[i]:\n",
    "                # print(j)\n",
    "                # print(index)\n",
    "                for k in inputdict[i][index]:\n",
    "                    # print(characterdict[i][index][k][0])\n",
    "                    if choice == inputdict[i][index][k][0]:\n",
    "                        player = choice\n",
    "                index += 1\n",
    "            index = 0\n",
    "            \n",
    "        # print(player)    \n",
    "        if player != 0:\n",
    "            return player\n",
    "        else:\n",
    "            print(\"class does not exist\")\n",
    "            # return 0\n",
    "            # if Menu.retryinput() == True:\n",
    "            #     Menu.playerselect(inputdict)\n",
    "            # return player\n",
    "            \n",
    "\n",
    "    def playercreate(inputdict):\n",
    "        \"\"\"user creates a character\"\"\"\n",
    "        #open json file function, writable\n",
    "        #temp = playerselect()\n",
    "        global playercharacter\n",
    "        playercharacter = Menu.playerselect(inputdict)\n",
    "        #write temp to player data json\n",
    "\n",
    "    def gamestart():\n",
    "        \"\"\"initiates game\"\"\"\n",
    "        #local choice\n",
    "        choice = 0\n",
    "        #resets globals\n",
    "        global enemylist\n",
    "        enemylist = []\n",
    "        global playercharacter\n",
    "        playercharacter = 0\n",
    "        #import jsons and assign accordingly\n",
    "        #global characterdict\n",
    "        #characterdict = loadjson(characters)\n",
    "        \n",
    "        print(\"welcome\\n would you like to mindlessly press 1\")\n",
    "        choice = int(input())\n",
    "        if choice == 1:\n",
    "            print(\"let us begin\")\n",
    "            Menu.gamenewgame()\n",
    "        else:\n",
    "            print(\"guess not\")\n",
    "        \n",
    "    def gamenewgame():\n",
    "        \"\"\"tells the player to choose between creating a new game or loading a save\"\"\"\n",
    "        print(\"would you like to: \\n 1: start a new game \\n 2: load a save \\n\")\n",
    "        choice = int(input())\n",
    "        if choice == 1:\n",
    "            print(\"creating a new character...\")\n",
    "            global playercharacter\n",
    "            playercharacter = Menu.playercreate(characterdict)\n",
    "        elif choice == 2:\n",
    "            print(\"loading savefiles...(this doesnt work yet)\")\n",
    "            try:\n",
    "                \"\"\"Reading Saved JSON data; starting game based on save\"\"\"\n",
    "                filename = 'last_save.json'\n",
    "                \n",
    "                with open(filename,'r') as f:\n",
    "                    #----Game Start----\n",
    "                    json.load(filename,f)\n",
    "            \n",
    "            except:\n",
    "                print(\"no save found :/ \")\n",
    "                Menu.retryinput()\n",
    "\n",
    "        else:\n",
    "            print(\"invalid input\")\n",
    "            if Menu.retryinput() == True:\n",
    "                Menu.gamenewgame()\n",
    "            \n",
    "    def retryinput():\n",
    "        \"\"\"prompts the user to retry an input\"\"\"\n",
    "        #this method can destroy some things\n",
    "        print(\"invalid input,\\n retry input?\\n 1: yes\\n 2: no\\n\")\n",
    "        choice = int(input())\n",
    "        if choice == 1:\n",
    "            print(\"sending you back...\")\n",
    "            return True\n",
    "        elif choice == 2:\n",
    "            print(\"exiting...\")\n",
    "            return 0\n",
    "        else:\n",
    "            print(\"guess not\")\n",
    "            return 0\n",
    "            \n",
    "    def starteritemselect(entity, item):\n",
    "        print(\"select an item to start your journey\\n\")\n",
    "        \n",
    "    \n",
    "            "
   ]
  },
  {
   "cell_type": "code",
   "execution_count": 7,
   "id": "5c3dc21d",
   "metadata": {},
   "outputs": [
    {
     "name": "stdout",
     "output_type": "stream",
     "text": [
      "no save found :/ \n",
      "invalid input,\n",
      " retry input?\n",
      " 1: yes\n",
      " 2: no\n",
      "\n",
      "exiting...\n"
     ]
    }
   ],
   "source": [
    "try:\n",
    "    \"\"\"Reading Saved JSON data; starting game based on save\"\"\"\n",
    "    filename = 'last_save.json'\n",
    "    \n",
    "    with open(filename,'r') as f:\n",
    "        #----Game Start----\n",
    "        json.load(filename,f)\n",
    "\n",
    "except:\n",
    "    print(\"no save found :/ \")\n",
    "    Menu.retryinput()"
   ]
  },
  {
   "cell_type": "code",
   "execution_count": 11,
   "id": "b72331d2-44d1-4bd2-8dc9-7d1739fed43f",
   "metadata": {},
   "outputs": [
    {
     "name": "stdout",
     "output_type": "stream",
     "text": [
      "['giant', 'tbd', 5, 1, 120]\n"
     ]
    }
   ],
   "source": [
    "print(characterdict['brawler'][1]['giant'])"
   ]
  },
  {
   "cell_type": "code",
   "execution_count": 13,
   "id": "2852fa30-4684-4da6-bce4-f3fcaef5aad3",
   "metadata": {},
   "outputs": [
    {
     "name": "stdout",
     "output_type": "stream",
     "text": [
      "select a class\n",
      " 3\n"
     ]
    },
    {
     "name": "stdout",
     "output_type": "stream",
     "text": [
      "class does not exist\n"
     ]
    },
    {
     "data": {
      "text/plain": [
       "0"
      ]
     },
     "execution_count": 13,
     "metadata": {},
     "output_type": "execute_result"
    }
   ],
   "source": [
    "Menu.playerselect(characterdict)"
   ]
  },
  {
   "cell_type": "code",
   "execution_count": 11,
   "id": "9ef5cf8e-a841-4063-880c-134ad2e2e36a",
   "metadata": {},
   "outputs": [
    {
     "name": "stdout",
     "output_type": "stream",
     "text": [
      "select a class\n",
      " rogue\n"
     ]
    }
   ],
   "source": [
    "Menu.playercreate(characterdict)"
   ]
  },
  {
   "cell_type": "code",
   "execution_count": 12,
   "id": "914fc24a-262a-4e72-855d-10a4df9a69b6",
   "metadata": {},
   "outputs": [
    {
     "name": "stdout",
     "output_type": "stream",
     "text": [
      "rogue\n"
     ]
    }
   ],
   "source": [
    "print(playercharacter)"
   ]
  },
  {
   "cell_type": "code",
   "execution_count": 14,
   "id": "cf5aa3cf-c500-4902-a4a4-c6e49f693d0b",
   "metadata": {},
   "outputs": [
    {
     "name": "stdout",
     "output_type": "stream",
     "text": [
      "welcome\n",
      " would you like to mindlessly press 1\n"
     ]
    },
    {
     "name": "stdout",
     "output_type": "stream",
     "text": [
      " 1\n"
     ]
    },
    {
     "name": "stdout",
     "output_type": "stream",
     "text": [
      "let us begin\n",
      "would you like to: \n",
      " 1: start a new game \n",
      " 2: load a save \n",
      "\n"
     ]
    },
    {
     "name": "stdout",
     "output_type": "stream",
     "text": [
      " 1\n"
     ]
    },
    {
     "name": "stdout",
     "output_type": "stream",
     "text": [
      "creating a new character...\n"
     ]
    },
    {
     "name": "stdout",
     "output_type": "stream",
     "text": [
      "select a class\n",
      " help\n"
     ]
    },
    {
     "name": "stdout",
     "output_type": "stream",
     "text": [
      "here is what you can choose from\n",
      "\n",
      "wizard\n",
      "sorcerer\n",
      "necromancer\n",
      "barbarian\n",
      "giant\n",
      "gladiator\n",
      "samurai\n",
      "crusader\n",
      "buster\n",
      "druid\n",
      "ninja\n",
      "rogue\n",
      "cleric\n",
      "sage\n",
      "shaman\n"
     ]
    },
    {
     "name": "stdout",
     "output_type": "stream",
     "text": [
      "select a class, you get no more help\n",
      " ninja\n"
     ]
    }
   ],
   "source": [
    "Menu.gamestart()"
   ]
  },
  {
   "cell_type": "code",
   "execution_count": 14,
   "id": "8f735790-6166-484d-8d6e-b1a536433222",
   "metadata": {},
   "outputs": [
    {
     "name": "stdout",
     "output_type": "stream",
     "text": [
      "[]\n"
     ]
    }
   ],
   "source": [
    "print(enemylist)"
   ]
  },
  {
   "cell_type": "code",
   "execution_count": 22,
   "id": "bbcaaec2-58ed-4bc9-a0cd-08baa75c1c85",
   "metadata": {},
   "outputs": [],
   "source": [
    "feef = Weapon('loiter', 'delivers warm hugs', 4, 9999)\n",
    "hooh = Weapon('drone', 'delivers warm hugs', 4, 9999)"
   ]
  },
  {
   "cell_type": "code",
   "execution_count": 24,
   "id": "690db5c2-7c37-46a3-bc61-f3607a508946",
   "metadata": {},
   "outputs": [],
   "source": [
    "starterweapons = [Weapon(\"club\", \"blunt stick, quite durable\", 25, 15),\n",
    "                  Weapon(\"strange robot bird pile\", \"each one says it delivers a warm hug\", 7, 9999),\n",
    "                  Weapon(\"brittle sword\", \"made with too high of a hardness, seems brittle\", 12, 45)\n",
    "                 ]"
   ]
  },
  {
   "cell_type": "code",
   "execution_count": 25,
   "id": "40edfb60-96a9-4e1d-a1f9-ecb5364500d4",
   "metadata": {},
   "outputs": [
    {
     "name": "stdout",
     "output_type": "stream",
     "text": [
      "[<__main__.Weapon object at 0x00000259985B5AE0>, <__main__.Weapon object at 0x00000259985B5BF0>, <__main__.Weapon object at 0x00000259983BA550>]\n"
     ]
    }
   ],
   "source": [
    "print(starterweapons)"
   ]
  },
  {
   "cell_type": "code",
   "execution_count": null,
   "id": "d435622f-a8eb-4efa-8000-6a3c6ac39dae",
   "metadata": {},
   "outputs": [],
   "source": []
  }
 ],
 "metadata": {
  "kernelspec": {
   "display_name": "base",
   "language": "python",
   "name": "python3"
  },
  "language_info": {
   "codemirror_mode": {
    "name": "ipython",
    "version": 3
   },
   "file_extension": ".py",
   "mimetype": "text/x-python",
   "name": "python",
   "nbconvert_exporter": "python",
   "pygments_lexer": "ipython3",
   "version": "3.12.7"
  }
 },
 "nbformat": 4,
 "nbformat_minor": 5
}
