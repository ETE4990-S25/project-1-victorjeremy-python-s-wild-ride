{
 "cells": [
  {
   "cell_type": "code",
   "execution_count": 46,
   "id": "12f7d956-54cc-4f9d-bc0f-dc8fa327b927",
   "metadata": {},
   "outputs": [],
   "source": [
    "class Entity:\n",
    "    def __init__(self, name, description, inventory, team, hitpoints,):\n",
    "        \"\"\"establish all the parameters of an entity, playable or not\"\"\"\n",
    "        self.name = name\n",
    "        self.description = description\n",
    "        self.inventory = inventory\n",
    "        self.team = team\n",
    "        self.hitpoints = hitpoints\n",
    "\n",
    "    def Create():\n",
    "        \"\"\"create an entity with user input\"\"\"\n",
    "        name = input(\"add name\")\n",
    "        description = input(\"add description\")\n",
    "        inventory = {}\n",
    "        team = int(input(\"set team number\"))\n",
    "        hitpoints = int(input(\"set hitpoints\"))\n",
    "        return Entity(name, description, inventory, team, hitpoints)\n",
    "\n",
    "    def addItem (item):\n",
    "        \"\"\"empty\"\"\"\n",
    "\n",
    "    "
   ]
  },
  {
   "cell_type": "code",
   "execution_count": 24,
   "id": "28654f91",
   "metadata": {},
   "outputs": [],
   "source": [
    "Wizard = Entity.Create()"
   ]
  },
  {
   "cell_type": "code",
   "execution_count": 30,
   "id": "8e7d7e90",
   "metadata": {},
   "outputs": [
    {
     "data": {
      "text/plain": [
       "5560"
      ]
     },
     "execution_count": 30,
     "metadata": {},
     "output_type": "execute_result"
    }
   ],
   "source": [
    "Wizard.hitpoints"
   ]
  },
  {
   "cell_type": "code",
   "execution_count": 53,
   "id": "7587d2dc",
   "metadata": {},
   "outputs": [
    {
     "name": "stderr",
     "output_type": "stream",
     "text": [
      "\n",
      "----------------------------------------------------------------------\n",
      "Ran 0 tests in 0.000s\n",
      "\n",
      "NO TESTS RAN\n"
     ]
    }
   ],
   "source": [
    "%run entity_test.py"
   ]
  },
  {
   "cell_type": "code",
   "execution_count": 48,
   "id": "46c9a462",
   "metadata": {},
   "outputs": [
    {
     "ename": "SystemExit",
     "evalue": "5",
     "output_type": "error",
     "traceback": [
      "\u001b[1;31m---------------------------------------------------------------------------\u001b[0m",
      "\u001b[1;31mSystemExit\u001b[0m                                Traceback (most recent call last)",
      "File \u001b[1;32mc:\\Users\\valfo\\anaconda3\\Lib\\site-packages\\IPython\\utils\\py3compat.py:55\u001b[0m, in \u001b[0;36mexecfile\u001b[1;34m(fname, glob, loc, compiler)\u001b[0m\n\u001b[0;32m     53\u001b[0m \u001b[38;5;28;01mwith\u001b[39;00m \u001b[38;5;28mopen\u001b[39m(fname, \u001b[38;5;124m\"\u001b[39m\u001b[38;5;124mrb\u001b[39m\u001b[38;5;124m\"\u001b[39m) \u001b[38;5;28;01mas\u001b[39;00m f:\n\u001b[0;32m     54\u001b[0m     compiler \u001b[38;5;241m=\u001b[39m compiler \u001b[38;5;129;01mor\u001b[39;00m \u001b[38;5;28mcompile\u001b[39m\n\u001b[1;32m---> 55\u001b[0m     exec(compiler(f\u001b[38;5;241m.\u001b[39mread(), fname, \u001b[38;5;124m\"\u001b[39m\u001b[38;5;124mexec\u001b[39m\u001b[38;5;124m\"\u001b[39m), glob, loc)\n",
      "File \u001b[1;32m~\\Labs - ETE 4990\\project-1-victorjeremy-python-s-wild-ride\\ProjectUpdates\\entity_test.py:15\u001b[0m\n\u001b[0;32m     13\u001b[0m \n\u001b[0;32m     14\u001b[0m if __name__=='__main__':\n\u001b[1;32m---> 15\u001b[0m     unittest.main()\n",
      "File \u001b[1;32mc:\\Users\\valfo\\anaconda3\\Lib\\unittest\\main.py:105\u001b[0m, in \u001b[0;36mTestProgram.__init__\u001b[1;34m(self, module, defaultTest, argv, testRunner, testLoader, exit, verbosity, failfast, catchbreak, buffer, warnings, tb_locals, durations)\u001b[0m\n\u001b[0;32m    103\u001b[0m \u001b[38;5;28mself\u001b[39m\u001b[38;5;241m.\u001b[39mprogName \u001b[38;5;241m=\u001b[39m os\u001b[38;5;241m.\u001b[39mpath\u001b[38;5;241m.\u001b[39mbasename(argv[\u001b[38;5;241m0\u001b[39m])\n\u001b[0;32m    104\u001b[0m \u001b[38;5;28mself\u001b[39m\u001b[38;5;241m.\u001b[39mparseArgs(argv)\n\u001b[1;32m--> 105\u001b[0m \u001b[38;5;28mself\u001b[39m\u001b[38;5;241m.\u001b[39mrunTests()\n",
      "File \u001b[1;32mc:\\Users\\valfo\\anaconda3\\Lib\\unittest\\main.py:284\u001b[0m, in \u001b[0;36mTestProgram.runTests\u001b[1;34m(self)\u001b[0m\n\u001b[0;32m    282\u001b[0m \u001b[38;5;28;01mif\u001b[39;00m \u001b[38;5;28mself\u001b[39m\u001b[38;5;241m.\u001b[39mexit:\n\u001b[0;32m    283\u001b[0m     \u001b[38;5;28;01mif\u001b[39;00m \u001b[38;5;28mself\u001b[39m\u001b[38;5;241m.\u001b[39mresult\u001b[38;5;241m.\u001b[39mtestsRun \u001b[38;5;241m==\u001b[39m \u001b[38;5;241m0\u001b[39m \u001b[38;5;129;01mand\u001b[39;00m \u001b[38;5;28mlen\u001b[39m(\u001b[38;5;28mself\u001b[39m\u001b[38;5;241m.\u001b[39mresult\u001b[38;5;241m.\u001b[39mskipped) \u001b[38;5;241m==\u001b[39m \u001b[38;5;241m0\u001b[39m:\n\u001b[1;32m--> 284\u001b[0m         sys\u001b[38;5;241m.\u001b[39mexit(_NO_TESTS_EXITCODE)\n\u001b[0;32m    285\u001b[0m     \u001b[38;5;28;01melif\u001b[39;00m \u001b[38;5;28mself\u001b[39m\u001b[38;5;241m.\u001b[39mresult\u001b[38;5;241m.\u001b[39mwasSuccessful():\n\u001b[0;32m    286\u001b[0m         sys\u001b[38;5;241m.\u001b[39mexit(\u001b[38;5;241m0\u001b[39m)\n",
      "\u001b[1;31mSystemExit\u001b[0m: 5"
     ]
    }
   ],
   "source": [
    "%tb"
   ]
  },
  {
   "cell_type": "code",
   "execution_count": null,
   "id": "784d54cf-c008-4602-bb46-5761014100a1",
   "metadata": {},
   "outputs": [],
   "source": [
    "def addtodict (targetdict, newkey, newvalue):\n",
    "    targetdict.update({newkey:newvalue})\n"
   ]
  },
  {
   "cell_type": "code",
   "execution_count": 2,
   "id": "7eae9e24-6b20-4579-9ae6-09a3369fe212",
   "metadata": {},
   "outputs": [],
   "source": [
    "class Item:\n",
    "    def __init__(self,name, desc, uses, dmg, jolliness):\n",
    "        \"\"\"create name, description, damage, and jolliness for an item\"\"\"\n",
    "        self.name = str(name)\n",
    "        self.desc = str(desc)\n",
    "        self.uses = int(uses)\n",
    "        self.dmg = int(dmg)\n",
    "        self.jolliness = int(jolliness)\n",
    "\n",
    "    def Use():\n",
    "        \"\"\"Use an item, checking if the use is more than 0\"\"\"\n",
    "        if self.uses > 0:\n",
    "            print('we attack')\n",
    "            uses -= 1\n",
    "            return(dmg)\n",
    "        else:\n",
    "            print('we got no more juice')\n",
    "        "
   ]
  },
  {
   "cell_type": "code",
   "execution_count": null,
   "id": "32b529e3-4252-4814-9c75-8d74e4ddaaba",
   "metadata": {},
   "outputs": [],
   "source": []
  }
 ],
 "metadata": {
  "kernelspec": {
   "display_name": "base",
   "language": "python",
   "name": "python3"
  },
  "language_info": {
   "codemirror_mode": {
    "name": "ipython",
    "version": 3
   },
   "file_extension": ".py",
   "mimetype": "text/x-python",
   "name": "python",
   "nbconvert_exporter": "python",
   "pygments_lexer": "ipython3",
   "version": "3.12.7"
  }
 },
 "nbformat": 4,
 "nbformat_minor": 5
}
