{
 "cells": [
  {
   "cell_type": "code",
   "execution_count": 1,
   "id": "8ebe1bc7-6e19-4615-9ace-01c719dff443",
   "metadata": {},
   "outputs": [],
   "source": [
    "import random\n",
    "\n",
    "class item:\n",
    "    def __init__(self, name, desc, uses):\n",
    "        \"\"\"create name, description, uses for an item\"\"\"\n",
    "        self.name = name # name of the item\n",
    "        self.desc = desc # item description\n",
    "        self.uses = uses # how many times the item can be used\n",
    "\n",
    "        \n",
    "    def checkuses(self):\n",
    "        \"\"\"verifies that the item can be used\"\"\"\n",
    "        try:\n",
    "            #print(f\"{self.name} is used!\")\n",
    "            if self.uses > 0:\n",
    "                return True\n",
    "\n",
    "            else:\n",
    "                return False\n",
    "        except:\n",
    "            print(\"problem in consume, item class\")\n",
    "\n",
    "    def inspect(self):\n",
    "        print(f\"{self.desc} \\nit appears to have {self.uses} uses left\")\n",
    "#end item class\n",
    "\n",
    "class weapon(item):\n",
    "    def __init__(self, name, desc, uses, damage):\n",
    "        super().__init__(name, desc, uses)\n",
    "        self.damage = damage\n",
    "\n",
    "    def use(self):\n",
    "        try:\n",
    "            if self.checkuses() == True:\n",
    "                print(f\"{self.name} is used to strike\")\n",
    "                self.uses -= 1\n",
    "                if self.checkuses() == False:\n",
    "                    print(f\"{self.name} has broken from the attack\")\n",
    "                return self.damage\n",
    "                \n",
    "            else:\n",
    "                print(f\"{self.name} is no longer usable\")\n",
    "                return 0\n",
    "        except:\n",
    "            print(\"problem in use, weapon class\")\n",
    "#end weapon class\n",
    "\n",
    "class inventory:\n",
    "    def __init__(self):\n",
    "        \"\"\"establish inventory and limits for weapons and items\"\"\"\n",
    "        self.weaponlimit = 3\n",
    "        self.itemlimit = 5\n",
    "        self.weapons = {}\n",
    "        self.items = {}\n",
    "        \n",
    "    def addweapon(self, weapon):\n",
    "        \"\"\"adds weapon to inventory\"\"\"\n",
    "        try:\n",
    "            if len(self.weapons) <= self.weaponlimit:\n",
    "                self.weapons.update({weapon.name:weapon})\n",
    "                print(f\"{weapon.name} added to inventory\")\n",
    "        except:\n",
    "            print(\"problem in addweapon, inventory class\")\n",
    "            \n",
    "    def removeweapon(self, weapon):\n",
    "        \"\"\"removes weapon from inventory\"\"\"\n",
    "        try:\n",
    "            if weapon in self.weapons:\n",
    "                self.weapons.pop(weapon)\n",
    "                print(f\"{weapon.name} removed from inventory\")\n",
    "            else:\n",
    "                print(\"weapon does not exist\")\n",
    "            \n",
    "\n",
    "        except:\n",
    "            print(\"problem in removeweapon, inventory class\")\n",
    "#end inventory class\n",
    "\n",
    "\n",
    "class entity:\n",
    "    \"\"\"baseline for all 'living' things in the game, name and hitpoint args\"\"\"\n",
    "    def __init__(self, name, hitpoints):\n",
    "        self.name = name\n",
    "        self.hitpoints = hitpoints\n",
    "        self.modifiers = []\n",
    "\n",
    "    def hurt(self,source):\n",
    "        try:\n",
    "            if self.hitpoints >= 1:\n",
    "                self.hitpoints -= source\n",
    "                print(f\"{source} damage dealt to {self.name}\\n\")\n",
    "        except:\n",
    "            print(\"problem in hurt, entity class\")\n",
    "\n",
    "    def checkdeath(self):\n",
    "        if self.hitpoints <= 0:\n",
    "            \n",
    "            print(f\"{self.name} has been eliminated!\\n\")\n",
    "            return 1\n",
    "#end entity class\n",
    "            \n",
    "class player(entity):\n",
    "    \"\"\"creates player entity\"\"\"\n",
    "    def __init__(self, name, hitpoints):\n",
    "        super().__init__(name, hitpoints)\n",
    "        self.inventory = inventory()\n",
    "\n",
    "    def useweapon(self):\n",
    "        try:\n",
    "            for i in self.inventory.weapons:\n",
    "                print (i)\n",
    "            flag = 1\n",
    "            while flag == 1:\n",
    "                select = input(\"select weapon to use\").lower()\n",
    "                for i in self.inventory.weapons:\n",
    "                    if select == i.lower():\n",
    "                        flag = 0\n",
    "                        return self.inventory.weapons[i].use()\n",
    "                    else:\n",
    "                        print(\"invalid input, try again\")\n",
    "\n",
    "        except:\n",
    "            print(\"problem in useweapon, player class\")\n",
    "#end player class\n",
    "\n",
    "class enemyent(entity):\n",
    "    \"\"\"creates enemy entity\"\"\"\n",
    "    def __init__(self, name, hitpoints):\n",
    "        super().__init__(name, hitpoints)\n",
    "    def damage(self):\n",
    "        return random.randint(30,50)\n",
    "#end enemyent class\n",
    "            \n",
    "class menu(player):\n",
    "    def createplayer():\n",
    "        #class layout: {'name' : [hp, weapon name, weapon description, weapon damage, weapon uses] }\n",
    "        classdict = {\"warrior\" : \n",
    "                     [120, \"broadsword\", \"sharp slab of metal\", 45, 15],\n",
    "                     \"mage\" :\n",
    "                     [70, \"fireball\", \"lethal thrown fire\", 60, 10],\n",
    "                     \"paladin\" :\n",
    "                     [220, \"shield\", \"blunt short-ranged metal slab\", 15, 40]\n",
    "                    }\n",
    "        for i in classdict:\n",
    "            print (i)\n",
    "        flag = 1\n",
    "        while flag == 1:\n",
    "            temp = input(\"select a class to play\\n\").lower()\n",
    "            if temp in classdict:\n",
    "                #print(\"true\")\n",
    "                global playerteam\n",
    "                playerteam = []\n",
    "                #create player\n",
    "                playerteam.append(player(temp, classdict[temp][0]))\n",
    "                #add starting weapon to inventory\n",
    "                playerteam[0].inventory.weapons.update({classdict[temp][1]:\n",
    "                                                        #create an object from weapons class with name, description, damage, uses\n",
    "                                                weapon(classdict[temp][1], classdict[temp][2],classdict[temp][4],classdict[temp][3])\n",
    "                                               })\n",
    "                flag = 0\n",
    "                break\n",
    "            else: \n",
    "                print(\"invalid input, try again\")\n",
    "#end menu class\n",
    "\n",
    "# =================================COMBAT=======================================\n",
    "class combat:\n",
    "    def initialize():\n",
    "        global enemyteam\n",
    "        enemyteam = []\n",
    "        #print(\"1a\")\n",
    "\n",
    "    def combatcycle(combatstate):\n",
    "        state = combatstate\n",
    "        if state == 0: #combat start\n",
    "            #print(\"a\") #indicate that combat has started\n",
    "            #teams should be initialized\n",
    "            combat.initialize()\n",
    "            combat.addenemy()\n",
    "            \n",
    "        if state == 1: #player turn\n",
    "            #print(\"b\") \n",
    "            #player can take action\n",
    "            try:\n",
    "                #print(\"b1\")\n",
    "                if (len(enemyteam) > 0) and (len(playerteam) > 0):\n",
    "                    print(\"enemies on the field:\\n\")\n",
    "                    enemyindex = 0\n",
    "                    for enemy in enemyteam:\n",
    "                        print(f\"at position {enemyindex}, {enemy.name} with {enemy.hitpoints} hitpoints\")\n",
    "                        enemyindex += 1\n",
    "                    flag = 1\n",
    "                    while flag == 1:\n",
    "                        #breaks if someone puts a string :(\n",
    "                        select = int(input(\"choose an enemy position to attack\"))\n",
    "                        if select in range(enemyindex):\n",
    "                            enemyteam[select].hurt(playerteam[0].useweapon() + random.randint(0,40))\n",
    "                            #print (enemyteam[select])\n",
    "                            if enemyteam[select].checkdeath() == 1:\n",
    "                                global score\n",
    "                                score += 1\n",
    "                                print(f\"{score} score\")\n",
    "                                #print(select)\n",
    "                                del enemyteam[select]\n",
    "                            flag = 0\n",
    "                            break\n",
    "                        else:\n",
    "                            print(\"invalid input, try again\")\n",
    "                if len(enemyteam) == 0:\n",
    "                    print(\"there are no enemies to fight\")\n",
    "                elif len(playerteam) == 0:\n",
    "                    print(\"player no longer exists\")\n",
    "                \n",
    "            except:\n",
    "                print(\"problem during player turn\")\n",
    "            \n",
    "            \n",
    "        if state == 2: #enemy turn\n",
    "            #print(\"c\") #enemy chooses the last item in the playerteam to attack\n",
    "            try:\n",
    "                if len(playerteam) == 0:\n",
    "                    print(\"all allies have been eliminated\")\n",
    "                elif playerteam[-1].hitpoints > 0:\n",
    "                    #print(\"ec\")\n",
    "                    for enemy in enemyteam:\n",
    "                        print(f\"{enemy.name} attacks\")\n",
    "                        playerteam[-1].hurt(enemy.damage())\n",
    "                        if playerteam[-1].checkdeath() == 1:\n",
    "                            #print (\"at\")\n",
    "                            del playerteam[-1]\n",
    "                \n",
    "            except:\n",
    "                print(\"problem during enemy turn\")\n",
    "                    \n",
    "            \n",
    "        if state == 3: #intermission\n",
    "            #print(\"d\") #displays health of every entity that remains\n",
    "            try:\n",
    "                if len(playerteam) > 0:\n",
    "                    for ally in playerteam:\n",
    "                        print(f\"{ally.name} has {ally.hitpoints} hitpoints remaining\")\n",
    "                if len(enemyteam) > 0:\n",
    "                    for enemy in enemyteam:\n",
    "                        print(f\"{enemy.name} has {enemy.hitpoints} hitpoints remaining\")\n",
    "                \n",
    "            except:\n",
    "                print(\"problem during intermission\")\n",
    "\n",
    "        if state == 4: #end combat cycle\n",
    "            #print(\"e\")\n",
    "            try:\n",
    "                if len(playerteam) == 0:\n",
    "                    print(\"game over\")\n",
    "                    print(f\"final score is {score}\")\n",
    "                elif len(enemyteam) == 0:\n",
    "                    print(\"combat over\")\n",
    "            except:\n",
    "                print(\"problem during end combat\")\n",
    "                \n",
    "    def addenemy():\n",
    "        global enemyteam\n",
    "        enemyteam.append(enemyent(\"rat\", random.randint(20, 80)))\n",
    "                \n",
    "    def combatloop():\n",
    "        flag = 1\n",
    "        combat.combatcycle(0)\n",
    "        while flag == 1:\n",
    "            for i in range(3):\n",
    "                combat.combatcycle(i+1)\n",
    "                if (len(playerteam) == 0) or (len(enemyteam) == 0):\n",
    "                    combat.combatcycle(4)\n",
    "                    flag = 0\n",
    "                    break\n",
    "            \n",
    "\n",
    "#========================GAMESTATES==============================\n",
    "class gamestates:\n",
    "    #gamestates include combat, noncombat\n",
    "    def gamecycle(gamestate):\n",
    "        state = gamestate\n",
    "        if state == 0: #menu\n",
    "            try:\n",
    "                menu.createplayer()\n",
    "            except:\n",
    "                print(\"problem with menu state\")\n",
    "        if state == 1: #noncombat phase\n",
    "            try:\n",
    "                print(\"save\\n\")\n",
    "            except:\n",
    "                print(\"problem with noncombat phase\")\n",
    "        if state == 2: #combat phase\n",
    "            try:\n",
    "                print(\"combat begins\\n\")\n",
    "                combat.combatloop()\n",
    "            except:\n",
    "                print(\"problem with combat phase\")\n",
    "                \n",
    "    def gameloop():\n",
    "        global playerteam\n",
    "        global score\n",
    "        score = 0\n",
    "        gamestates.gamecycle(0)\n",
    "        while len(playerteam) > 0:\n",
    "            gamestates.gamecycle(1)\n",
    "            gamestates.gamecycle(2)\n",
    "        \n",
    "#end of gamestates class\n"
   ]
  },
  {
   "cell_type": "code",
   "execution_count": 2,
   "id": "33bced9b-46de-4544-bca3-eebf85a9c96e",
   "metadata": {},
   "outputs": [
    {
     "name": "stdout",
     "output_type": "stream",
     "text": [
      "warrior\n",
      "mage\n",
      "paladin\n"
     ]
    },
    {
     "name": "stdin",
     "output_type": "stream",
     "text": [
      "select a class to play\n",
      " warrior\n"
     ]
    },
    {
     "name": "stdout",
     "output_type": "stream",
     "text": [
      "save\n",
      "\n",
      "combat begins\n",
      "\n",
      "enemies on the field:\n",
      "\n",
      "at position 0, rat with 79 hitpoints\n"
     ]
    },
    {
     "name": "stdin",
     "output_type": "stream",
     "text": [
      "choose an enemy position to attack 0\n"
     ]
    },
    {
     "name": "stdout",
     "output_type": "stream",
     "text": [
      "broadsword\n"
     ]
    },
    {
     "name": "stdin",
     "output_type": "stream",
     "text": [
      "select weapon to use broadsword\n"
     ]
    },
    {
     "name": "stdout",
     "output_type": "stream",
     "text": [
      "broadsword is used to strike\n",
      "76 damage dealt to rat\n",
      "\n",
      "rat attacks\n",
      "33 damage dealt to warrior\n",
      "\n",
      "warrior has 87 hitpoints remaining\n",
      "rat has 3 hitpoints remaining\n",
      "enemies on the field:\n",
      "\n",
      "at position 0, rat with 3 hitpoints\n"
     ]
    },
    {
     "name": "stdin",
     "output_type": "stream",
     "text": [
      "choose an enemy position to attack 0\n"
     ]
    },
    {
     "name": "stdout",
     "output_type": "stream",
     "text": [
      "broadsword\n"
     ]
    },
    {
     "name": "stdin",
     "output_type": "stream",
     "text": [
      "select weapon to use broadsword\n"
     ]
    },
    {
     "name": "stdout",
     "output_type": "stream",
     "text": [
      "broadsword is used to strike\n",
      "73 damage dealt to rat\n",
      "\n",
      "rat has been eliminated!\n",
      "\n",
      "1 score\n",
      "there are no enemies to fight\n",
      "e\n",
      "combat over\n",
      "save\n",
      "\n",
      "combat begins\n",
      "\n",
      "enemies on the field:\n",
      "\n",
      "at position 0, rat with 23 hitpoints\n"
     ]
    },
    {
     "name": "stdin",
     "output_type": "stream",
     "text": [
      "choose an enemy position to attack 0\n"
     ]
    },
    {
     "name": "stdout",
     "output_type": "stream",
     "text": [
      "broadsword\n"
     ]
    },
    {
     "name": "stdin",
     "output_type": "stream",
     "text": [
      "select weapon to use broadsword\n"
     ]
    },
    {
     "name": "stdout",
     "output_type": "stream",
     "text": [
      "broadsword is used to strike\n",
      "57 damage dealt to rat\n",
      "\n",
      "rat has been eliminated!\n",
      "\n",
      "2 score\n",
      "there are no enemies to fight\n",
      "e\n",
      "combat over\n",
      "save\n",
      "\n",
      "combat begins\n",
      "\n",
      "enemies on the field:\n",
      "\n",
      "at position 0, rat with 46 hitpoints\n"
     ]
    },
    {
     "name": "stdin",
     "output_type": "stream",
     "text": [
      "choose an enemy position to attack 0\n"
     ]
    },
    {
     "name": "stdout",
     "output_type": "stream",
     "text": [
      "broadsword\n"
     ]
    },
    {
     "name": "stdin",
     "output_type": "stream",
     "text": [
      "select weapon to use broadsword\n"
     ]
    },
    {
     "name": "stdout",
     "output_type": "stream",
     "text": [
      "broadsword is used to strike\n",
      "80 damage dealt to rat\n",
      "\n",
      "rat has been eliminated!\n",
      "\n",
      "3 score\n",
      "there are no enemies to fight\n",
      "e\n",
      "combat over\n",
      "save\n",
      "\n",
      "combat begins\n",
      "\n",
      "enemies on the field:\n",
      "\n",
      "at position 0, rat with 48 hitpoints\n"
     ]
    },
    {
     "name": "stdin",
     "output_type": "stream",
     "text": [
      "choose an enemy position to attack 0\n"
     ]
    },
    {
     "name": "stdout",
     "output_type": "stream",
     "text": [
      "broadsword\n"
     ]
    },
    {
     "name": "stdin",
     "output_type": "stream",
     "text": [
      "select weapon to use broadsword\n"
     ]
    },
    {
     "name": "stdout",
     "output_type": "stream",
     "text": [
      "broadsword is used to strike\n",
      "56 damage dealt to rat\n",
      "\n",
      "rat has been eliminated!\n",
      "\n",
      "4 score\n",
      "there are no enemies to fight\n",
      "e\n",
      "combat over\n",
      "save\n",
      "\n",
      "combat begins\n",
      "\n",
      "enemies on the field:\n",
      "\n",
      "at position 0, rat with 62 hitpoints\n"
     ]
    },
    {
     "name": "stdin",
     "output_type": "stream",
     "text": [
      "choose an enemy position to attack 0\n"
     ]
    },
    {
     "name": "stdout",
     "output_type": "stream",
     "text": [
      "broadsword\n"
     ]
    },
    {
     "name": "stdin",
     "output_type": "stream",
     "text": [
      "select weapon to use broadsword\n"
     ]
    },
    {
     "name": "stdout",
     "output_type": "stream",
     "text": [
      "broadsword is used to strike\n",
      "50 damage dealt to rat\n",
      "\n",
      "rat attacks\n",
      "47 damage dealt to warrior\n",
      "\n",
      "warrior has 40 hitpoints remaining\n",
      "rat has 12 hitpoints remaining\n",
      "enemies on the field:\n",
      "\n",
      "at position 0, rat with 12 hitpoints\n"
     ]
    },
    {
     "name": "stdin",
     "output_type": "stream",
     "text": [
      "choose an enemy position to attack 0\n"
     ]
    },
    {
     "name": "stdout",
     "output_type": "stream",
     "text": [
      "broadsword\n"
     ]
    },
    {
     "name": "stdin",
     "output_type": "stream",
     "text": [
      "select weapon to use broadsword\n"
     ]
    },
    {
     "name": "stdout",
     "output_type": "stream",
     "text": [
      "broadsword is used to strike\n",
      "68 damage dealt to rat\n",
      "\n",
      "rat has been eliminated!\n",
      "\n",
      "5 score\n",
      "there are no enemies to fight\n",
      "e\n",
      "combat over\n",
      "save\n",
      "\n",
      "combat begins\n",
      "\n",
      "enemies on the field:\n",
      "\n",
      "at position 0, rat with 31 hitpoints\n"
     ]
    },
    {
     "name": "stdin",
     "output_type": "stream",
     "text": [
      "choose an enemy position to attack 0\n"
     ]
    },
    {
     "name": "stdout",
     "output_type": "stream",
     "text": [
      "broadsword\n"
     ]
    },
    {
     "name": "stdin",
     "output_type": "stream",
     "text": [
      "select weapon to use broadsword\n"
     ]
    },
    {
     "name": "stdout",
     "output_type": "stream",
     "text": [
      "broadsword is used to strike\n",
      "65 damage dealt to rat\n",
      "\n",
      "rat has been eliminated!\n",
      "\n",
      "6 score\n",
      "there are no enemies to fight\n",
      "e\n",
      "combat over\n",
      "save\n",
      "\n",
      "combat begins\n",
      "\n",
      "enemies on the field:\n",
      "\n",
      "at position 0, rat with 80 hitpoints\n"
     ]
    },
    {
     "name": "stdin",
     "output_type": "stream",
     "text": [
      "choose an enemy position to attack 0\n"
     ]
    },
    {
     "name": "stdout",
     "output_type": "stream",
     "text": [
      "broadsword\n"
     ]
    },
    {
     "name": "stdin",
     "output_type": "stream",
     "text": [
      "select weapon to use broadsword\n"
     ]
    },
    {
     "name": "stdout",
     "output_type": "stream",
     "text": [
      "broadsword is used to strike\n",
      "64 damage dealt to rat\n",
      "\n",
      "rat attacks\n",
      "34 damage dealt to warrior\n",
      "\n",
      "warrior has 6 hitpoints remaining\n",
      "rat has 16 hitpoints remaining\n",
      "enemies on the field:\n",
      "\n",
      "at position 0, rat with 16 hitpoints\n"
     ]
    },
    {
     "name": "stdin",
     "output_type": "stream",
     "text": [
      "choose an enemy position to attack 0\n"
     ]
    },
    {
     "name": "stdout",
     "output_type": "stream",
     "text": [
      "broadsword\n"
     ]
    },
    {
     "name": "stdin",
     "output_type": "stream",
     "text": [
      "select weapon to use broadsowrd\n"
     ]
    },
    {
     "name": "stdout",
     "output_type": "stream",
     "text": [
      "invalid input, try again\n"
     ]
    },
    {
     "name": "stdin",
     "output_type": "stream",
     "text": [
      "select weapon to use broadsword\n"
     ]
    },
    {
     "name": "stdout",
     "output_type": "stream",
     "text": [
      "broadsword is used to strike\n",
      "63 damage dealt to rat\n",
      "\n",
      "rat has been eliminated!\n",
      "\n",
      "7 score\n",
      "there are no enemies to fight\n",
      "e\n",
      "combat over\n",
      "save\n",
      "\n",
      "combat begins\n",
      "\n",
      "enemies on the field:\n",
      "\n",
      "at position 0, rat with 62 hitpoints\n"
     ]
    },
    {
     "name": "stdin",
     "output_type": "stream",
     "text": [
      "choose an enemy position to attack 0\n"
     ]
    },
    {
     "name": "stdout",
     "output_type": "stream",
     "text": [
      "broadsword\n"
     ]
    },
    {
     "name": "stdin",
     "output_type": "stream",
     "text": [
      "select weapon to use broadsword\n"
     ]
    },
    {
     "name": "stdout",
     "output_type": "stream",
     "text": [
      "broadsword is used to strike\n",
      "70 damage dealt to rat\n",
      "\n",
      "rat has been eliminated!\n",
      "\n",
      "8 score\n",
      "there are no enemies to fight\n",
      "e\n",
      "combat over\n",
      "save\n",
      "\n",
      "combat begins\n",
      "\n",
      "enemies on the field:\n",
      "\n",
      "at position 0, rat with 73 hitpoints\n"
     ]
    },
    {
     "name": "stdin",
     "output_type": "stream",
     "text": [
      "choose an enemy position to attack 0\n"
     ]
    },
    {
     "name": "stdout",
     "output_type": "stream",
     "text": [
      "broadsword\n"
     ]
    },
    {
     "name": "stdin",
     "output_type": "stream",
     "text": [
      "select weapon to use broadsword\n"
     ]
    },
    {
     "name": "stdout",
     "output_type": "stream",
     "text": [
      "broadsword is used to strike\n",
      "68 damage dealt to rat\n",
      "\n",
      "rat attacks\n",
      "30 damage dealt to warrior\n",
      "\n",
      "warrior has been eliminated!\n",
      "\n",
      "e\n",
      "game over\n",
      "8\n"
     ]
    }
   ],
   "source": [
    "gamestates.gameloop()"
   ]
  },
  {
   "cell_type": "code",
   "execution_count": null,
   "id": "7d3546f1-5ebe-4b0f-b363-fcb2b29cf8f8",
   "metadata": {},
   "outputs": [],
   "source": []
  }
 ],
 "metadata": {
  "kernelspec": {
   "display_name": "Python 3 (ipykernel)",
   "language": "python",
   "name": "python3"
  },
  "language_info": {
   "codemirror_mode": {
    "name": "ipython",
    "version": 3
   },
   "file_extension": ".py",
   "mimetype": "text/x-python",
   "name": "python",
   "nbconvert_exporter": "python",
   "pygments_lexer": "ipython3",
   "version": "3.13.1"
  }
 },
 "nbformat": 4,
 "nbformat_minor": 5
}
